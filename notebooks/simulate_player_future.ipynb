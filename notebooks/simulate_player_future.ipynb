{
 "cells": [
  {
   "cell_type": "code",
   "execution_count": 28,
   "id": "3b126a3d",
   "metadata": {},
   "outputs": [
    {
     "name": "stdout",
     "output_type": "stream",
     "text": [
      "📁 Directorio de trabajo actual: F:\\JCMDataCenter\\Cursos\\Evolve Academy\\Data Scientist IA\\Futpeak\n"
     ]
    }
   ],
   "source": [
    "from pathlib import Path\n",
    "import os\n",
    "\n",
    "# Establece la raíz del proyecto manualmente\n",
    "project_root = Path(\"F:/JCMDataCenter/Cursos/Evolve Academy/Data Scientist IA/Futpeak\") # sobremesa\n",
    "#project_root = Path(\"C:/Users/juanm/Desktop/FUTPEAK/Futpeak\") # portátil\n",
    "\n",
    "# Cambia el directorio de trabajo actual a esa raíz\n",
    "os.chdir(project_root)\n",
    "\n",
    "print(\"📁 Directorio de trabajo actual:\", Path.cwd())"
   ]
  },
  {
   "cell_type": "code",
   "execution_count": 29,
   "id": "0c8f128e",
   "metadata": {},
   "outputs": [],
   "source": [
    "import pandas as pd\n",
    "import numpy as np\n",
    "import matplotlib.pyplot as plt\n",
    "from catboost import CatBoostClassifier\n",
    "from sklearn.neighbors import NearestNeighbors\n",
    "import os\n"
   ]
  },
  {
   "cell_type": "code",
   "execution_count": 30,
   "id": "22d8c198",
   "metadata": {},
   "outputs": [
    {
     "data": {
      "text/plain": [
       "<catboost.core.CatBoostClassifier at 0x1d486f84970>"
      ]
     },
     "execution_count": 30,
     "metadata": {},
     "output_type": "execute_result"
    }
   ],
   "source": [
    "# Cargar modelo entrenado\n",
    "model = CatBoostClassifier()\n",
    "model.load_model(\"model/catboost_multiclase_futpeak.cbm\")\n"
   ]
  },
  {
   "cell_type": "code",
   "execution_count": 42,
   "id": "c2b4d3b4",
   "metadata": {},
   "outputs": [
    {
     "name": "stdout",
     "output_type": "stream",
     "text": [
      "✅ Matchlogs loaded and rating_per_90 calculated.\n"
     ]
    }
   ],
   "source": [
    "import pandas as pd\n",
    "import numpy as np\n",
    "\n",
    "# === Load historical data\n",
    "main_logs = pd.read_csv(\"data/processed/cleaned_matchlogs.csv\")\n",
    "main_meta = pd.read_csv(\"data/processed/cleaned_metadata.csv\")\n",
    "main_df = main_logs.merge(main_meta, on=\"Player_ID\")\n",
    "\n",
    "# Preferimos la Position de metadata (más estable)\n",
    "if \"Position_y\" in main_df.columns:\n",
    "    main_df.rename(columns={\"Position_y\": \"Position\"}, inplace=True)\n",
    "if \"Position_x\" in main_df.columns:\n",
    "    main_df.drop(columns=[\"Position_x\"], inplace=True)\n",
    "\n",
    "# === Load Lamine's data\n",
    "future_df = pd.read_csv(\"data/processed/future_stars_cleaned_matchlogs.csv\")\n",
    "future_meta = pd.read_csv(\"data/processed/future_stars_cleaned_metadata.csv\")\n",
    "future_df = future_df.merge(future_meta, on=\"Player_ID\", how=\"left\")\n",
    "\n",
    "if \"Position_y\" in future_df.columns:\n",
    "    future_df.rename(columns={\"Position_y\": \"Position\"}, inplace=True)\n",
    "if \"Position_x\" in future_df.columns:\n",
    "    future_df.drop(columns=[\"Position_x\"], inplace=True)\n",
    "\n",
    "# === Rating columns to process\n",
    "rating_cols = ['Goals', 'Assists', 'Shots', 'Shots_on_target', 'Yellow_cards', 'Red_cards', 'Minutes']\n",
    "\n",
    "# === Ensure numeric and compute rating\n",
    "def calculate_rating(row):\n",
    "    score = (\n",
    "        row['Goals'] * 5 +\n",
    "        row['Assists'] * 4 +\n",
    "        row['Shots_on_target'] * 0.5 +\n",
    "        (row['Shots'] - row['Shots_on_target']) * 0.1 -\n",
    "        row['Yellow_cards'] * 1 -\n",
    "        row['Red_cards'] * 2\n",
    "    )\n",
    "    return score / (row['Minutes'] / 90) if row['Minutes'] > 0 else 0\n",
    "\n",
    "for df in [main_df, future_df]:\n",
    "    for col in rating_cols:\n",
    "        df[col] = pd.to_numeric(df[col], errors='coerce').fillna(0)\n",
    "    df[\"rating_per_90\"] = df.apply(calculate_rating, axis=1)\n",
    "\n",
    "print(\"✅ Matchlogs loaded and rating_per_90 calculated.\")\n",
    "\n"
   ]
  },
  {
   "cell_type": "code",
   "execution_count": 43,
   "id": "aac8a441",
   "metadata": {},
   "outputs": [
    {
     "name": "stdout",
     "output_type": "stream",
     "text": [
      "📆 Age calculated from birth_date and match date.\n"
     ]
    }
   ],
   "source": [
    "# Convert date columns to datetime with format specified\n",
    "for df in [main_df, future_df]:\n",
    "    df[\"Date\"] = pd.to_datetime(df[\"Date\"], format=\"%Y-%m-%d\", errors=\"coerce\")\n",
    "    df[\"Birth_date\"] = pd.to_datetime(df[\"Birth_date\"], format=\"%Y-%m-%d\", errors=\"coerce\")\n",
    "    df[\"Age\"] = (df[\"Date\"] - df[\"Birth_date\"]).dt.days / 365.25\n",
    "\n",
    "print(\"📆 Age calculated from birth_date and match date.\")\n"
   ]
  },
  {
   "cell_type": "code",
   "execution_count": 44,
   "id": "2038218e",
   "metadata": {},
   "outputs": [
    {
     "name": "stdout",
     "output_type": "stream",
     "text": [
      "Index([], dtype='object')\n"
     ]
    }
   ],
   "source": [
    "print(main_df.columns[main_df.columns.duplicated()])\n",
    "\n"
   ]
  },
  {
   "cell_type": "code",
   "execution_count": 45,
   "id": "2f367a3a",
   "metadata": {},
   "outputs": [
    {
     "name": "stdout",
     "output_type": "stream",
     "text": [
      "🎯 Filtered to attacking/midfield positions.\n"
     ]
    }
   ],
   "source": [
    "# Define position groups\n",
    "POSITION_GROUPS = {\n",
    "    \"GOALKEEPER\": [\"GK\"],\n",
    "    \"DEFENSIVE\": [\"CB\", \"LB\", \"RB\", \"FB\", \"LWB\", \"RWB\", \"SW\", \"DF\"],\n",
    "    \"MIDFIELD\": [\"CM\", \"DM\", \"MF\", \"AM\"],\n",
    "    \"ATTACKING\": [\"CF\", \"ST\", \"FW\", \"LW\", \"RW\", \"WF\", \"IF\", \"OL\", \"OR\"]\n",
    "}\n",
    "target_positions = POSITION_GROUPS[\"MIDFIELD\"] + POSITION_GROUPS[\"ATTACKING\"]\n",
    "\n",
    "# Function to detect if a position is offensive or creative\n",
    "def is_target_position(pos):\n",
    "    if isinstance(pos, str):\n",
    "        return any(p in pos.split('-') for p in target_positions)\n",
    "    return False\n",
    "\n",
    "# Apply filtering\n",
    "main_df[\"Is_Target\"] = main_df[\"Position\"].apply(is_target_position)\n",
    "future_df[\"Is_Target\"] = future_df[\"Position\"].apply(is_target_position)\n",
    "\n",
    "# Keep only relevant players\n",
    "main_df = main_df[main_df[\"Is_Target\"]].copy()\n",
    "future_df = future_df[future_df[\"Is_Target\"]].copy()\n",
    "\n",
    "print(\"🎯 Filtered to attacking/midfield positions.\")\n"
   ]
  },
  {
   "cell_type": "code",
   "execution_count": 46,
   "id": "b7aa5539",
   "metadata": {},
   "outputs": [
    {
     "name": "stdout",
     "output_type": "stream",
     "text": [
      "🧩 Selected Lamine's latest match entry.\n"
     ]
    }
   ],
   "source": [
    "# Set Lamine's Player_ID\n",
    "lamine_id = \"82ec26c1\"\n",
    "\n",
    "# Ensure Lamine is present\n",
    "if lamine_id not in future_df[\"Player_ID\"].values:\n",
    "    raise ValueError(\"❌ Lamine Yamal not found in future_df!\")\n",
    "\n",
    "# Get latest available match\n",
    "lamine_latest = future_df[future_df[\"Player_ID\"] == lamine_id].sort_values(\"Date\").iloc[-1]\n",
    "\n",
    "print(\"🧩 Selected Lamine's latest match entry.\")\n",
    "\n"
   ]
  }
 ],
 "metadata": {
  "kernelspec": {
   "display_name": "futpeak",
   "language": "python",
   "name": "python3"
  },
  "language_info": {
   "codemirror_mode": {
    "name": "ipython",
    "version": 3
   },
   "file_extension": ".py",
   "mimetype": "text/x-python",
   "name": "python",
   "nbconvert_exporter": "python",
   "pygments_lexer": "ipython3",
   "version": "3.10.16"
  }
 },
 "nbformat": 4,
 "nbformat_minor": 5
}
