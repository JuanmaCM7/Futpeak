{
 "cells": [
  {
   "cell_type": "code",
   "execution_count": 196,
   "id": "cc3e5874",
   "metadata": {},
   "outputs": [
    {
     "name": "stdout",
     "output_type": "stream",
     "text": [
      "📁 Directorio de trabajo actual: F:\\JCMDataCenter\\Cursos\\Evolve Academy\\Data Scientist IA\\Futpeak\n"
     ]
    }
   ],
   "source": [
    "from pathlib import Path\n",
    "import os\n",
    "\n",
    "# Establece la raíz del proyecto manualmente\n",
    "project_root = Path(\"F:/JCMDataCenter/Cursos/Evolve Academy/Data Scientist IA/Futpeak\") # sobremesa\n",
    "#project_root = Path(\"C:/Users/juanm/Desktop/FUTPEAK/Futpeak\") # portátil\n",
    "\n",
    "# Cambia el directorio de trabajo actual a esa raíz\n",
    "os.chdir(project_root)\n",
    "\n",
    "print(\"📁 Directorio de trabajo actual:\", Path.cwd())"
   ]
  },
  {
   "cell_type": "markdown",
   "id": "97898887",
   "metadata": {},
   "source": [
    "# ETAPA 1 — Carga y exploración de los datos\n",
    "\n",
    "En esta primera etapa, cargamos los archivos `matchlogs` y `metadata`, que contienen información por partido y por jugador, respectivamente.\n",
    "\n",
    "Nuestro objetivo aquí no es solo cargar los datos, sino **entender qué columnas hay, qué tipo de variables contiene cada una, y cuáles vamos a usar o descartar**.\n",
    "\n",
    "### ¿Qué buscamos al explorar?\n",
    "- Qué columnas tienen valores nulos\n",
    "- Qué columnas son categóricas, numéricas o de fecha\n",
    "- Si hay identificadores únicos (`Player_ID`)\n",
    "- Qué variables nos pueden servir para el modelo\n",
    "\n",
    "Vamos a centrarnos en **variables relacionadas con el rendimiento en el campo**, y **descartar muchas otras que no aportan directamente al objetivo de predecir la evolución del jugador**.\n",
    "\n"
   ]
  },
  {
   "cell_type": "code",
   "execution_count": 197,
   "id": "6737a62c",
   "metadata": {},
   "outputs": [
    {
     "name": "stdout",
     "output_type": "stream",
     "text": [
      "🔍 Matchlogs structure:\n",
      "<class 'pandas.core.frame.DataFrame'>\n",
      "RangeIndex: 239340 entries, 0 to 239339\n",
      "Data columns (total 46 columns):\n",
      " #   Column                 Non-Null Count   Dtype  \n",
      "---  ------                 --------------   -----  \n",
      " 0   Player_name            239340 non-null  object \n",
      " 1   Player_ID              239340 non-null  object \n",
      " 2   Seasons                239340 non-null  object \n",
      " 3   Date                   239340 non-null  object \n",
      " 4   Day                    239340 non-null  object \n",
      " 5   Competition            239340 non-null  object \n",
      " 6   Round                  239340 non-null  object \n",
      " 7   Home_Away              239340 non-null  object \n",
      " 8   Result                 239340 non-null  object \n",
      " 9   Player_team            239340 non-null  object \n",
      " 10  Rival_team             239340 non-null  object \n",
      " 11  Start                  239340 non-null  object \n",
      " 12  Position               184298 non-null  object \n",
      " 13  Minutes                239069 non-null  float64\n",
      " 14  Goals                  239337 non-null  float64\n",
      " 15  Assists                236786 non-null  float64\n",
      " 16  Penalty_kick           239288 non-null  float64\n",
      " 17  Penalty_kick_att       239282 non-null  float64\n",
      " 18  Shots                  192282 non-null  float64\n",
      " 19  Shots_on_target        192283 non-null  float64\n",
      " 20  Yellow_cards           239289 non-null  float64\n",
      " 21  Red_cards              239289 non-null  float64\n",
      " 22  Fouls_committed        76621 non-null   float64\n",
      " 23  Fouls_drawn            76621 non-null   float64\n",
      " 24  Offsides               76606 non-null   float64\n",
      " 25  Crosses                76561 non-null   float64\n",
      " 26  Tackles_won            76560 non-null   float64\n",
      " 27  Interceptions          192219 non-null  float64\n",
      " 28  Own_goals              116840 non-null  float64\n",
      " 29  Penaltys_won           41077 non-null   float64\n",
      " 30  Penaltys_conceded      41077 non-null   float64\n",
      " 31  Touches                103610 non-null  float64\n",
      " 32  Tackles                103610 non-null  float64\n",
      " 33  Blocks                 103610 non-null  float64\n",
      " 34  xG                     103610 non-null  float64\n",
      " 35  non_penalty_xG         103610 non-null  float64\n",
      " 36  x_assisted_G           103610 non-null  float64\n",
      " 37  Shot_creating_actions  103610 non-null  float64\n",
      " 38  Goal_creating_actions  103610 non-null  float64\n",
      " 39  Passes_completed       103610 non-null  float64\n",
      " 40  Passes_att             103610 non-null  float64\n",
      " 41  Percent_passes         102932 non-null  float64\n",
      " 42  Progressive_passes     103610 non-null  float64\n",
      " 43  Feet_control           103610 non-null  float64\n",
      " 44  Progressive_control    103610 non-null  float64\n",
      " 45  Dribling_suc           103610 non-null  float64\n",
      "dtypes: float64(33), object(13)\n",
      "memory usage: 84.0+ MB\n",
      "\n",
      "🧾 Metadata structure:\n",
      "<class 'pandas.core.frame.DataFrame'>\n",
      "RangeIndex: 3982 entries, 0 to 3981\n",
      "Data columns (total 12 columns):\n",
      " #   Column        Non-Null Count  Dtype \n",
      "---  ------        --------------  ----- \n",
      " 0   Player_ID     3982 non-null   object\n",
      " 1   Player_name   3982 non-null   object\n",
      " 2   Full_name     1173 non-null   object\n",
      " 3   Url_template  3982 non-null   object\n",
      " 4   Birth_date    3982 non-null   object\n",
      " 5   Age           3550 non-null   object\n",
      " 6   Position      3982 non-null   object\n",
      " 7   Footed        2659 non-null   object\n",
      " 8   Birth_place   3144 non-null   object\n",
      " 9   Nationality   3913 non-null   object\n",
      " 10  Club          3479 non-null   object\n",
      " 11  Gender        3982 non-null   object\n",
      "dtypes: object(12)\n",
      "memory usage: 373.4+ KB\n"
     ]
    },
    {
     "data": {
      "text/html": [
       "<div>\n",
       "<style scoped>\n",
       "    .dataframe tbody tr th:only-of-type {\n",
       "        vertical-align: middle;\n",
       "    }\n",
       "\n",
       "    .dataframe tbody tr th {\n",
       "        vertical-align: top;\n",
       "    }\n",
       "\n",
       "    .dataframe thead th {\n",
       "        text-align: right;\n",
       "    }\n",
       "</style>\n",
       "<table border=\"1\" class=\"dataframe\">\n",
       "  <thead>\n",
       "    <tr style=\"text-align: right;\">\n",
       "      <th></th>\n",
       "      <th>Player_name</th>\n",
       "      <th>Player_ID</th>\n",
       "      <th>Seasons</th>\n",
       "      <th>Date</th>\n",
       "      <th>Day</th>\n",
       "      <th>Competition</th>\n",
       "      <th>Round</th>\n",
       "      <th>Home_Away</th>\n",
       "      <th>Result</th>\n",
       "      <th>Player_team</th>\n",
       "      <th>...</th>\n",
       "      <th>x_assisted_G</th>\n",
       "      <th>Shot_creating_actions</th>\n",
       "      <th>Goal_creating_actions</th>\n",
       "      <th>Passes_completed</th>\n",
       "      <th>Passes_att</th>\n",
       "      <th>Percent_passes</th>\n",
       "      <th>Progressive_passes</th>\n",
       "      <th>Feet_control</th>\n",
       "      <th>Progressive_control</th>\n",
       "      <th>Dribling_suc</th>\n",
       "    </tr>\n",
       "  </thead>\n",
       "  <tbody>\n",
       "    <tr>\n",
       "      <th>0</th>\n",
       "      <td>Luciano Abecasis</td>\n",
       "      <td>6c510f2d</td>\n",
       "      <td>2016</td>\n",
       "      <td>2016-02-05</td>\n",
       "      <td>Fri</td>\n",
       "      <td>Primera Div</td>\n",
       "      <td>Matchweek 1</td>\n",
       "      <td>Away</td>\n",
       "      <td>L 0–1</td>\n",
       "      <td>Godoy Cruz</td>\n",
       "      <td>...</td>\n",
       "      <td>NaN</td>\n",
       "      <td>NaN</td>\n",
       "      <td>NaN</td>\n",
       "      <td>NaN</td>\n",
       "      <td>NaN</td>\n",
       "      <td>NaN</td>\n",
       "      <td>NaN</td>\n",
       "      <td>NaN</td>\n",
       "      <td>NaN</td>\n",
       "      <td>NaN</td>\n",
       "    </tr>\n",
       "    <tr>\n",
       "      <th>1</th>\n",
       "      <td>Luciano Abecasis</td>\n",
       "      <td>6c510f2d</td>\n",
       "      <td>2016</td>\n",
       "      <td>2016-02-12</td>\n",
       "      <td>Fri</td>\n",
       "      <td>Primera Div</td>\n",
       "      <td>Matchweek 2</td>\n",
       "      <td>Home</td>\n",
       "      <td>D 1–1</td>\n",
       "      <td>Godoy Cruz</td>\n",
       "      <td>...</td>\n",
       "      <td>NaN</td>\n",
       "      <td>NaN</td>\n",
       "      <td>NaN</td>\n",
       "      <td>NaN</td>\n",
       "      <td>NaN</td>\n",
       "      <td>NaN</td>\n",
       "      <td>NaN</td>\n",
       "      <td>NaN</td>\n",
       "      <td>NaN</td>\n",
       "      <td>NaN</td>\n",
       "    </tr>\n",
       "    <tr>\n",
       "      <th>2</th>\n",
       "      <td>Luciano Abecasis</td>\n",
       "      <td>6c510f2d</td>\n",
       "      <td>2016</td>\n",
       "      <td>2016-02-18</td>\n",
       "      <td>Thu</td>\n",
       "      <td>Primera Div</td>\n",
       "      <td>Matchweek 3</td>\n",
       "      <td>Away</td>\n",
       "      <td>W 2–1</td>\n",
       "      <td>Godoy Cruz</td>\n",
       "      <td>...</td>\n",
       "      <td>NaN</td>\n",
       "      <td>NaN</td>\n",
       "      <td>NaN</td>\n",
       "      <td>NaN</td>\n",
       "      <td>NaN</td>\n",
       "      <td>NaN</td>\n",
       "      <td>NaN</td>\n",
       "      <td>NaN</td>\n",
       "      <td>NaN</td>\n",
       "      <td>NaN</td>\n",
       "    </tr>\n",
       "    <tr>\n",
       "      <th>3</th>\n",
       "      <td>Luciano Abecasis</td>\n",
       "      <td>6c510f2d</td>\n",
       "      <td>2016</td>\n",
       "      <td>2016-02-21</td>\n",
       "      <td>Sun</td>\n",
       "      <td>Primera Div</td>\n",
       "      <td>Matchweek 4</td>\n",
       "      <td>Home</td>\n",
       "      <td>W 4–1</td>\n",
       "      <td>Godoy Cruz</td>\n",
       "      <td>...</td>\n",
       "      <td>NaN</td>\n",
       "      <td>NaN</td>\n",
       "      <td>NaN</td>\n",
       "      <td>NaN</td>\n",
       "      <td>NaN</td>\n",
       "      <td>NaN</td>\n",
       "      <td>NaN</td>\n",
       "      <td>NaN</td>\n",
       "      <td>NaN</td>\n",
       "      <td>NaN</td>\n",
       "    </tr>\n",
       "    <tr>\n",
       "      <th>4</th>\n",
       "      <td>Luciano Abecasis</td>\n",
       "      <td>6c510f2d</td>\n",
       "      <td>2016</td>\n",
       "      <td>2016-02-26</td>\n",
       "      <td>Fri</td>\n",
       "      <td>Primera Div</td>\n",
       "      <td>Matchweek 5</td>\n",
       "      <td>Away</td>\n",
       "      <td>W 3–2</td>\n",
       "      <td>Godoy Cruz</td>\n",
       "      <td>...</td>\n",
       "      <td>NaN</td>\n",
       "      <td>NaN</td>\n",
       "      <td>NaN</td>\n",
       "      <td>NaN</td>\n",
       "      <td>NaN</td>\n",
       "      <td>NaN</td>\n",
       "      <td>NaN</td>\n",
       "      <td>NaN</td>\n",
       "      <td>NaN</td>\n",
       "      <td>NaN</td>\n",
       "    </tr>\n",
       "  </tbody>\n",
       "</table>\n",
       "<p>5 rows × 46 columns</p>\n",
       "</div>"
      ],
      "text/plain": [
       "        Player_name Player_ID Seasons        Date  Day  Competition  \\\n",
       "0  Luciano Abecasis  6c510f2d    2016  2016-02-05  Fri  Primera Div   \n",
       "1  Luciano Abecasis  6c510f2d    2016  2016-02-12  Fri  Primera Div   \n",
       "2  Luciano Abecasis  6c510f2d    2016  2016-02-18  Thu  Primera Div   \n",
       "3  Luciano Abecasis  6c510f2d    2016  2016-02-21  Sun  Primera Div   \n",
       "4  Luciano Abecasis  6c510f2d    2016  2016-02-26  Fri  Primera Div   \n",
       "\n",
       "         Round Home_Away Result Player_team  ... x_assisted_G  \\\n",
       "0  Matchweek 1      Away  L 0–1  Godoy Cruz  ...          NaN   \n",
       "1  Matchweek 2      Home  D 1–1  Godoy Cruz  ...          NaN   \n",
       "2  Matchweek 3      Away  W 2–1  Godoy Cruz  ...          NaN   \n",
       "3  Matchweek 4      Home  W 4–1  Godoy Cruz  ...          NaN   \n",
       "4  Matchweek 5      Away  W 3–2  Godoy Cruz  ...          NaN   \n",
       "\n",
       "  Shot_creating_actions Goal_creating_actions  Passes_completed  Passes_att  \\\n",
       "0                   NaN                   NaN               NaN         NaN   \n",
       "1                   NaN                   NaN               NaN         NaN   \n",
       "2                   NaN                   NaN               NaN         NaN   \n",
       "3                   NaN                   NaN               NaN         NaN   \n",
       "4                   NaN                   NaN               NaN         NaN   \n",
       "\n",
       "   Percent_passes  Progressive_passes  Feet_control  Progressive_control  \\\n",
       "0             NaN                 NaN           NaN                  NaN   \n",
       "1             NaN                 NaN           NaN                  NaN   \n",
       "2             NaN                 NaN           NaN                  NaN   \n",
       "3             NaN                 NaN           NaN                  NaN   \n",
       "4             NaN                 NaN           NaN                  NaN   \n",
       "\n",
       "   Dribling_suc  \n",
       "0           NaN  \n",
       "1           NaN  \n",
       "2           NaN  \n",
       "3           NaN  \n",
       "4           NaN  \n",
       "\n",
       "[5 rows x 46 columns]"
      ]
     },
     "execution_count": 197,
     "metadata": {},
     "output_type": "execute_result"
    }
   ],
   "source": [
    "import pandas as pd\n",
    "\n",
    "# Load datasets\n",
    "df_matchlogs = pd.read_csv(\"data/processed/cleaned_matchlogs.csv\")\n",
    "df_metadata = pd.read_csv(\"data/processed/cleaned_metadata.csv\")\n",
    "\n",
    "# Show general info for structure\n",
    "print(\"🔍 Matchlogs structure:\")\n",
    "df_matchlogs.info()\n",
    "\n",
    "print(\"\\n🧾 Metadata structure:\")\n",
    "df_metadata.info()\n",
    "\n",
    "# Preview a few rows\n",
    "df_matchlogs.head()\n"
   ]
  },
  {
   "cell_type": "code",
   "execution_count": 198,
   "id": "ee9ae435",
   "metadata": {},
   "outputs": [
    {
     "name": "stdout",
     "output_type": "stream",
     "text": [
      "🔧 All columns in matchlogs:\n",
      "['Player_name', 'Player_ID', 'Seasons', 'Date', 'Day', 'Competition', 'Round', 'Home_Away', 'Result', 'Player_team', 'Rival_team', 'Start', 'Position', 'Minutes', 'Goals', 'Assists', 'Penalty_kick', 'Penalty_kick_att', 'Shots', 'Shots_on_target', 'Yellow_cards', 'Red_cards', 'Fouls_committed', 'Fouls_drawn', 'Offsides', 'Crosses', 'Tackles_won', 'Interceptions', 'Own_goals', 'Penaltys_won', 'Penaltys_conceded', 'Touches', 'Tackles', 'Blocks', 'xG', 'non_penalty_xG', 'x_assisted_G', 'Shot_creating_actions', 'Goal_creating_actions', 'Passes_completed', 'Passes_att', 'Percent_passes', 'Progressive_passes', 'Feet_control', 'Progressive_control', 'Dribling_suc']\n",
      "\n",
      "✅ Columns selected for modeling:\n",
      "['Player_ID', 'Date', 'Minutes', 'Goals', 'Assists', 'Shots', 'Shots_on_target', 'Yellow_cards', 'Red_cards']\n"
     ]
    }
   ],
   "source": [
    "# View all columns in matchlogs\n",
    "print(\"🔧 All columns in matchlogs:\")\n",
    "print(df_matchlogs.columns.tolist())\n",
    "\n",
    "# List of columns we plan to keep\n",
    "columns_to_use = [\n",
    "    'Player_ID', 'Date', 'Minutes', 'Goals', 'Assists',\n",
    "    'Shots', 'Shots_on_target', 'Yellow_cards', 'Red_cards'\n",
    "]\n",
    "\n",
    "print(\"\\n✅ Columns selected for modeling:\")\n",
    "print(columns_to_use)\n",
    "\n",
    "# Optional: create a reduced version of the matchlogs\n",
    "df_matchlogs = df_matchlogs[columns_to_use]\n",
    "\n"
   ]
  },
  {
   "cell_type": "markdown",
   "id": "a2cbd566",
   "metadata": {},
   "source": [
    "# ETAPA 2 — Filtrado de jugadores ofensivos y cálculo del debut\n",
    "\n",
    "No todos los jugadores tienen el mismo tipo de rendimiento ni las mismas estadísticas.  \n",
    "En este proyecto, **nos centramos en jugadores ofensivos y mediocampistas**, porque son los que aportan goles, asistencias y tiros (las métricas que usaremos para valorar el rendimiento).\n",
    "\n",
    "Además, para poder analizar la progresión desde el inicio de la carrera, necesitamos:\n",
    "- Detectar el **primer partido profesional (debut)**.\n",
    "- Calcular desde entonces en qué año de carrera está cada jugador en cada partido.\n",
    "\n",
    "También calcularemos la edad del jugador en cada partido, porque **la edad es una variable predictiva clave** para el tipo de evolución que tendrá.\n"
   ]
  },
  {
   "cell_type": "code",
   "execution_count": 199,
   "id": "fd6fa9c6",
   "metadata": {},
   "outputs": [],
   "source": [
    "POSITION_GROUPS = {\n",
    "    'GOALKEEPER': ['GK'],\n",
    "\n",
    "    'DEFENSIVE': [\n",
    "        'CB',    # Center Back\n",
    "        'LB',    # Left Back\n",
    "        'RB',    # Right Back\n",
    "        'FB',    # Fullback\n",
    "        'LWB',   # Left Wing Back\n",
    "        'RWB',   # Right Wing Back\n",
    "        'SW',    # Sweeper\n",
    "        'D'      # Generic Defender\n",
    "    ],\n",
    "\n",
    "    'MIDFIELD': [\n",
    "        'CM',    # Center Midfielder\n",
    "        'DM',    # Defensive Midfielder\n",
    "        'MF',     # Generic Midfielder\n",
    "        'AM'     # Attacking Midfielder (can also be attacking, but here consider control of juego)\n",
    "    ],\n",
    "\n",
    "    'ATTACKING': [\n",
    "        'CF',    # Center Forward\n",
    "        'ST',    # Striker\n",
    "        'F',     # Generic Forward\n",
    "        'FW',    # Forward (alternative code)\n",
    "        'LW',    # Left Wing\n",
    "        'RW',    # Right Wing\n",
    "        'WF',    # Wing Forward\n",
    "        'IF',    # Inside Forward\n",
    "        'OL',    # Outside Left\n",
    "        'OR'     # Outside Right\n",
    "    ]\n",
    "}\n"
   ]
  },
  {
   "cell_type": "code",
   "execution_count": 200,
   "id": "f76ea358",
   "metadata": {},
   "outputs": [],
   "source": [
    "# Define relevant positions for attacking/midfield players\n",
    "target_positions = POSITION_GROUPS['MIDFIELD'] + POSITION_GROUPS['ATTACKING']\n",
    "\n",
    "# Create a function to check if position is relevant\n",
    "def is_target_position(pos):\n",
    "    if pd.isna(pos):\n",
    "        return False\n",
    "    return any(p in pos.split('-') for p in target_positions)\n",
    "\n",
    "# Filter metadata to only include target players\n",
    "df_metadata['Is_Target'] = df_metadata['Position'].apply(is_target_position)\n",
    "df_metadata_target = df_metadata[df_metadata['Is_Target']]\n",
    "\n",
    "# Filter matchlogs for selected players\n",
    "target_ids = df_metadata_target['Player_ID'].unique()\n",
    "df_matchlogs_target = df_matchlogs[df_matchlogs['Player_ID'].isin(target_ids)].copy()\n"
   ]
  },
  {
   "cell_type": "code",
   "execution_count": 201,
   "id": "e7def9ef",
   "metadata": {},
   "outputs": [],
   "source": [
    "# Convert Date columns to datetime\n",
    "df_matchlogs_target['Date'] = pd.to_datetime(df_matchlogs_target['Date'], errors='coerce')\n",
    "df_metadata['Birth_date'] = pd.to_datetime(df_metadata['Birth_date'], errors='coerce')\n",
    "\n",
    "# Merge Birth_date into matchlogs\n",
    "df_matchlogs_target = df_matchlogs_target.merge(\n",
    "    df_metadata[['Player_ID', 'Birth_date']],\n",
    "    on='Player_ID', how='left'\n",
    ")\n",
    "\n",
    "# Calcular debut por jugador (primer partido con minutos > 0)\n",
    "debut_dates = df_matchlogs_target[df_matchlogs_target['Minutes'] > 0].groupby('Player_ID')['Date'].min()\n",
    "df_matchlogs_target['Debut_date'] = df_matchlogs_target['Player_ID'].map(debut_dates)\n",
    "\n",
    "# Calcular año relativo desde el debut\n",
    "df_matchlogs_target['year_since_debut'] = (\n",
    "    (df_matchlogs_target['Date'] - df_matchlogs_target['Debut_date']).dt.days // 365 + 1\n",
    ")\n",
    "\n",
    "# Calcular edad en el partido\n",
    "df_matchlogs_target['age'] = (\n",
    "    (df_matchlogs_target['Date'] - df_matchlogs_target['Birth_date']).dt.days / 365.25\n",
    ")\n"
   ]
  },
  {
   "cell_type": "markdown",
   "id": "d005825c",
   "metadata": {},
   "source": [
    "# ETAPA 3 — Cálculo del rendimiento ofensivo por partido\n",
    "\n",
    "Queremos transformar las estadísticas individuales (goles, asistencias, tiros, tarjetas...) en **una única métrica de rendimiento**.  \n",
    "Esta métrica nos permitirá comparar partidos entre sí de manera más objetiva.\n",
    "\n",
    "Además, vamos a normalizar esta métrica por 90 minutos.  \n",
    "¿Por qué? Porque jugar 15 minutos y marcar un gol no equivale a jugar 90 y marcar uno. **Necesitamos ajustar el rendimiento al tiempo jugado.**\n",
    "\n",
    "### Fórmula propuesta:\n",
    "- +5 por cada gol\n",
    "- +4 por asistencia\n",
    "- +0.5 por tiro a puerta\n",
    "- +0.1 por tiro fuera\n",
    "- -1 por amarilla\n",
    "- -2 por roja\n",
    "\n",
    "El resultado se divide por los minutos jugados y se multiplica por 90 → rendimiento por 90 minutos.\n"
   ]
  },
  {
   "cell_type": "code",
   "execution_count": 202,
   "id": "4d93fbe8",
   "metadata": {},
   "outputs": [],
   "source": [
    "# Fill missing values with 0\n",
    "cols = ['Goals', 'Assists', 'Shots', 'Shots_on_target', 'Yellow_cards', 'Red_cards', 'Minutes']\n",
    "df_matchlogs_target[cols] = df_matchlogs_target[cols].fillna(0)\n",
    "\n",
    "# Function to compute performance rating\n",
    "def calculate_rating(row):\n",
    "    score = (\n",
    "        row['Goals'] * 5 +\n",
    "        row['Assists'] * 4 +\n",
    "        row['Shots_on_target'] * 0.5 +\n",
    "        (row['Shots'] - row['Shots_on_target']) * 0.1 -\n",
    "        row['Yellow_cards'] * 1 -\n",
    "        row['Red_cards'] * 2\n",
    "    )\n",
    "    return score / (row['Minutes'] / 90) if row['Minutes'] > 0 else 0\n",
    "\n",
    "# Apply to dataset\n",
    "df_matchlogs_target['rating_per_90'] = df_matchlogs_target.apply(calculate_rating, axis=1)\n"
   ]
  },
  {
   "cell_type": "markdown",
   "id": "50435bbb",
   "metadata": {},
   "source": [
    "# ETAPA 4 — Agregación por año y creación de la trayectoria del jugador\n",
    "\n",
    "Ahora que ya tenemos el rendimiento de cada partido (`rating_per_90`), necesitamos pasar de datos por partido a **una vista por año** desde el debut.\n",
    "\n",
    "### ¿Por qué agregamos por año?\n",
    "Porque queremos ver cómo evoluciona el jugador en su carrera. Si analizamos partido por partido, hay demasiado ruido.\n",
    "\n",
    "### ¿Qué vamos a calcular por jugador y año?\n",
    "- Minutos totales jugados\n",
    "- Goles totales\n",
    "- Asistencias totales\n",
    "- Media de `rating_per_90` del año\n",
    "- Edad promedio ese año\n",
    "\n",
    "Este dataset será nuestra \"foto\" anual del jugador, y servirá para modelar su evolución.\n"
   ]
  },
  {
   "cell_type": "code",
   "execution_count": 203,
   "id": "7dbf31e8",
   "metadata": {},
   "outputs": [],
   "source": [
    "# Group by player and year since debut\n",
    "career_df = df_matchlogs_target.groupby(['Player_ID', 'year_since_debut']).agg({\n",
    "    'Minutes': 'sum',\n",
    "    'Goals': 'sum',\n",
    "    'Assists': 'sum',\n",
    "    'rating_per_90': 'mean',\n",
    "    'age': 'mean'  # Edad promedio ese año\n",
    "}).reset_index()\n"
   ]
  },
  {
   "cell_type": "markdown",
   "id": "69abb7da",
   "metadata": {},
   "source": [
    "# ETAPA 5 — Detección del año de pico y clasificación de tipo de carrera\n",
    "\n",
    "Para predecir cómo será la evolución de un jugador, primero tenemos que saber **cómo fue la de los jugadores históricos**.\n",
    "\n",
    "Aquí vamos a:\n",
    "1. Detectar el **año de pico** de cada jugador, es decir, el año en el que tuvo su mejor rendimiento (`rating_per_90`).\n",
    "2. Clasificar ese año como:\n",
    "   - `temprano` si ocurrió en los primeros 2 años\n",
    "   - `medio` si ocurrió entre los años 3 y 4\n",
    "   - `tardío` si ocurrió en el año 5 o más\n",
    "\n",
    "Esto se convertirá en nuestra **variable objetivo (`target`)**. Es lo que el modelo intentará predecir.\n",
    "\n",
    "Además, filtraremos los años con muy pocos minutos jugados, ya que pueden dar lugar a \"falsos picos\".\n"
   ]
  },
  {
   "cell_type": "code",
   "execution_count": 204,
   "id": "3b31c426",
   "metadata": {},
   "outputs": [],
   "source": [
    "# Filtrar años con suficiente tiempo jugado (evita picos engañosos)\n",
    "valid_seasons = career_df[career_df['Minutes'] >= 300]\n",
    "\n",
    "# Buscar el año con mejor rating por jugador\n",
    "peak_info = (\n",
    "    valid_seasons.sort_values(['Player_ID', 'rating_per_90'], ascending=[True, False])\n",
    "    .groupby('Player_ID')\n",
    "    .first()\n",
    "    .reset_index()\n",
    "    .rename(columns={'year_since_debut': 'peak_year', 'rating_per_90': 'peak_rating'})\n",
    ")\n",
    "\n",
    "# Unir esta info a la trayectoria completa\n",
    "career_with_peak = career_df.merge(\n",
    "    peak_info[['Player_ID', 'peak_year', 'peak_rating']],\n",
    "    on='Player_ID', how='left'\n",
    ")\n",
    "\n",
    "# Clasificar el tipo de carrera según el año de pico\n",
    "def assign_peak_group(y):\n",
    "    if y <= 2:\n",
    "        return 'temprano'\n",
    "    elif y <= 4:\n",
    "        return 'medio'\n",
    "    else:\n",
    "        return 'tardío'\n",
    "\n",
    "# Aplicar clasificación\n",
    "career_with_peak['peak_group'] = career_with_peak['peak_year'].apply(assign_peak_group)\n"
   ]
  },
  {
   "cell_type": "markdown",
   "id": "94f9fbf6",
   "metadata": {},
   "source": [
    "# ETAPA 6 — Construcción de features para el modelo (versión final)\n",
    "\n",
    "Aquí creamos las variables de entrada (`X`) para el modelo usando datos de los primeros 5 años desde el debut.\n",
    "\n",
    "Utilizamos:\n",
    "- Ratings anuales (`rating_year_X`)\n",
    "- Edad (`age_year_X`)\n",
    "- Minutos (`minutes_year_X`)\n",
    "- Tendencias y promedios (evitamos el exceso de ruido)\n",
    "\n"
   ]
  },
  {
   "cell_type": "code",
   "execution_count": 205,
   "id": "0f6ae11e",
   "metadata": {},
   "outputs": [],
   "source": [
    "# Seleccionar primeros 5 años\n",
    "early_years = career_with_peak[career_with_peak['year_since_debut'] <= 5]\n",
    "\n",
    "# Pivot por jugador\n",
    "pivot_rating = early_years.pivot(index='Player_ID', columns='year_since_debut', values='rating_per_90')\n",
    "pivot_age = early_years.pivot(index='Player_ID', columns='year_since_debut', values='age')\n",
    "pivot_minutes = early_years.pivot(index='Player_ID', columns='year_since_debut', values='Minutes')\n",
    "\n",
    "# Renombrar columnas\n",
    "pivot_rating.columns = [f'rating_year_{i}' for i in pivot_rating.columns]\n",
    "pivot_age.columns = [f'age_year_{i}' for i in pivot_age.columns]\n",
    "pivot_minutes.columns = [f'minutes_year_{i}' for i in pivot_minutes.columns]\n",
    "\n",
    "# Combinar\n",
    "pivot_combined = pd.concat([pivot_rating, pivot_age, pivot_minutes], axis=1).fillna(0)\n",
    "\n",
    "# Features refinadas\n",
    "pivot_combined['growth_2_1'] = pivot_combined['rating_year_2'] - pivot_combined['rating_year_1']\n",
    "pivot_combined['growth_3_2'] = pivot_combined['rating_year_3'] - pivot_combined['rating_year_2']\n",
    "pivot_combined['growth_4_3'] = pivot_combined['rating_year_4'] - pivot_combined['rating_year_3']\n",
    "pivot_combined['growth_5_4'] = pivot_combined['rating_year_5'] - pivot_combined['rating_year_4']\n",
    "\n",
    "# Promedios simples\n",
    "pivot_combined['avg_rating'] = pivot_combined[[f'rating_year_{i}' for i in range(1, 6)]].mean(axis=1)\n",
    "pivot_combined['avg_age'] = pivot_combined[[f'age_year_{i}' for i in range(1, 6)]].mean(axis=1)\n",
    "pivot_combined['sum_minutes'] = pivot_combined[[f'minutes_year_{i}' for i in range(1, 6)]].sum(axis=1)\n",
    "pivot_combined['explosion_temprana'] = pivot_combined['rating_year_3'] - pivot_combined['rating_year_1']\n",
    "\n",
    "# Merge con target\n",
    "model_df = pivot_combined.merge(peak_info[['Player_ID', 'peak_year']], on='Player_ID', how='inner')\n",
    "model_df['peak_group'] = model_df['peak_year'].apply(assign_peak_group)\n"
   ]
  },
  {
   "cell_type": "code",
   "execution_count": 206,
   "id": "5e188ddf",
   "metadata": {},
   "outputs": [
    {
     "data": {
      "image/png": "[encoded data removed]",
      "text/plain": [
       "<Figure size 640x480 with 1 Axes>"
      ]
     },
     "metadata": {},
     "output_type": "display_data"
    }
   ],
   "source": [
    "import seaborn as sns\n",
    "import matplotlib.pyplot as plt\n",
    "\n",
    "# Distribución de rating medio por grupo\n",
    "model_df['peak_group'] = model_df['peak_group'].astype(str)\n",
    "sns.boxplot(data=model_df, x='peak_group', y='avg_rating', order=['temprano', 'medio', 'tardío'])\n",
    "plt.title(\"Distribución de rating medio por tipo de carrera\")\n",
    "plt.show()\n"
   ]
  },
  {
   "cell_type": "markdown",
   "id": "4e2c731a",
   "metadata": {},
   "source": [
    "# ETAPA 7 — Separación de datos por jugador\n",
    "\n",
    "Para evitar fugas de información, usamos `train_test_split` por jugador. Esto garantiza que todos los datos de un jugador estén solo en entrenamiento o en test, pero nunca en ambos.\n",
    "\n",
    "Además, codificamos las clases como enteros para modelos como CatBoost.\n"
   ]
  },
  {
   "cell_type": "code",
   "execution_count": 207,
   "id": "8ac4d6ad",
   "metadata": {},
   "outputs": [],
   "source": [
    "from sklearn.model_selection import train_test_split\n",
    "from sklearn.preprocessing import LabelEncoder\n",
    "\n",
    "\n",
    "# Asegurar que Player_ID es el índice\n",
    "model_df = model_df.set_index('Player_ID')\n",
    "\n",
    "# Features y target\n",
    "X = model_df.drop(columns=['peak_year', 'peak_group'])\n",
    "y = model_df['peak_group']\n",
    "\n",
    "# Split por jugador (índice = Player_ID)\n",
    "train_ids, test_ids = train_test_split(\n",
    "    y.index, test_size=0.2, random_state=42, stratify=y\n",
    ")\n",
    "\n",
    "X_train = X.loc[train_ids]\n",
    "X_test = X.loc[test_ids]\n",
    "y_train = y.loc[train_ids]\n",
    "y_test = y.loc[test_ids]\n",
    "\n",
    "# Codificación de clases\n",
    "label_encoder = LabelEncoder()\n",
    "y_train_encoded = label_encoder.fit_transform(y_train)\n",
    "y_test_encoded = label_encoder.transform(y_test)\n",
    "\n",
    "\n",
    "\n"
   ]
  },
  {
   "cell_type": "markdown",
   "id": "962918ad",
   "metadata": {},
   "source": [
    "# ETAPA 7B — Rebalanceo de clases con SMOTE\n",
    "\n",
    "La clase `temprano` es la menos representada y la más difícil de predecir.\n",
    "\n",
    "Aplicamos SMOTE (Synthetic Minority Over-sampling Technique) para crear ejemplos sintéticos y balancear las clases en el conjunto de entrenamiento.\n"
   ]
  },
  {
   "cell_type": "code",
   "execution_count": 208,
   "id": "06872a3e",
   "metadata": {},
   "outputs": [
    {
     "name": "stdout",
     "output_type": "stream",
     "text": [
      "✅ Dataset reequilibrado:\n",
      "Antes: (647, 23)\n",
      "Después: (1266, 23)\n"
     ]
    }
   ],
   "source": [
    "from imblearn.over_sampling import SMOTE\n",
    "\n",
    "# Rebalanceo solo sobre X_train\n",
    "smote = SMOTE(random_state=42)\n",
    "X_train_res, y_train_res = smote.fit_resample(X_train, y_train_encoded)\n",
    "\n",
    "print(\"✅ Dataset reequilibrado:\")\n",
    "print(\"Antes:\", X_train.shape)\n",
    "print(\"Después:\", X_train_res.shape)\n"
   ]
  },
  {
   "cell_type": "code",
   "execution_count": 209,
   "id": "fb1b88c1",
   "metadata": {},
   "outputs": [
    {
     "data": {
      "text/plain": [
       "<Axes: title={'center': 'Después de SMOTE'}>"
      ]
     },
     "execution_count": 209,
     "metadata": {},
     "output_type": "execute_result"
    },
    {
     "data": {
      "image/png": "[encoded data removed]",
      "text/plain": [
       "<Figure size 640x480 with 1 Axes>"
      ]
     },
     "metadata": {},
     "output_type": "display_data"
    }
   ],
   "source": [
    "import pandas as pd\n",
    "pd.Series(y_train_encoded).value_counts().plot(kind='bar', title=\"Antes de SMOTE\")\n",
    "pd.Series(y_train_res).value_counts().plot(kind='bar', title=\"Después de SMOTE\")\n"
   ]
  },
  {
   "cell_type": "markdown",
   "id": "a36462e7",
   "metadata": {},
   "source": [
    "# ETAPA 8 — Entrenamiento final con CatBoost optimizado\n",
    "\n",
    "Utilizamos más iteraciones y early stopping para mejorar rendimiento. También aplicamos `auto_class_weights='Balanced'` para evitar sesgo hacia clases mayoritarias.\n",
    "\n",
    "\n"
   ]
  },
  {
   "cell_type": "code",
   "execution_count": 210,
   "id": "6a27dc8f",
   "metadata": {},
   "outputs": [
    {
     "data": {
      "text/plain": [
       "<catboost.core.CatBoostClassifier at 0x2036a467f40>"
      ]
     },
     "execution_count": 210,
     "metadata": {},
     "output_type": "execute_result"
    }
   ],
   "source": [
    "from catboost import CatBoostClassifier\n",
    "\n",
    "# Entrenamiento inicial\n",
    "cat_model = CatBoostClassifier(\n",
    "    iterations=500,\n",
    "    learning_rate=0.03,\n",
    "    depth=6,\n",
    "    loss_function='MultiClass',\n",
    "    auto_class_weights='Balanced',\n",
    "    early_stopping_rounds=30,\n",
    "    random_seed=42,\n",
    "    verbose=0\n",
    ")\n",
    "\n",
    "cat_model.fit(X_train, y_train_encoded, eval_set=(X_test, y_test_encoded))\n",
    "\n"
   ]
  },
  {
   "cell_type": "markdown",
   "id": "64f450ea",
   "metadata": {},
   "source": [
    "# ETAPA 8B — Selección de features más importantes\n",
    "\n",
    "Conservamos solo las variables que el modelo identifica como relevantes (importancia > 1%).\n"
   ]
  },
  {
   "cell_type": "code",
   "execution_count": 211,
   "id": "57b7d543",
   "metadata": {},
   "outputs": [
    {
     "name": "stdout",
     "output_type": "stream",
     "text": [
      "🔍 Usamos 23 columnas de 23\n"
     ]
    }
   ],
   "source": [
    "# Reentrenamos un CatBoost SOLO para sacar importancias desde SMOTE\n",
    "cat_model_for_importance = CatBoostClassifier(\n",
    "    iterations=300,\n",
    "    learning_rate=0.03,\n",
    "    depth=6,\n",
    "    loss_function='MultiClass',\n",
    "    random_seed=42,\n",
    "    verbose=0\n",
    ")\n",
    "\n",
    "cat_model_for_importance.fit(X_train_res, y_train_res)\n",
    "\n",
    "importances = pd.Series(cat_model_for_importance.feature_importances_, index=X.columns)\n",
    "features_utiles = importances[importances > 1.0].index.tolist()\n",
    "importances[features_utiles].sort_values(ascending=False).to_frame(name='Importancia')\n",
    "\n",
    "\n",
    "print(f\"🔍 Usamos {len(features_utiles)} columnas de {len(X.columns)}\")\n",
    "\n",
    "# Actualizamos X y recreamos split por ID\n",
    "X = X[features_utiles]\n",
    "X_train = X.loc[train_ids]\n",
    "X_test = X.loc[test_ids]\n",
    "\n",
    "# SMOTE de nuevo con X filtrado\n",
    "X_train_res, y_train_res = smote.fit_resample(X_train, y_train_encoded)\n",
    "\n"
   ]
  },
  {
   "cell_type": "markdown",
   "id": "7ccb6a79",
   "metadata": {},
   "source": [
    "# ETAPA 8C — Entrenamiento final optimizado con CatBoost\n",
    "\n",
    "Ahora entrenamos el modelo definitivo con las mejores variables y ajustes de hiperparámetros para maximizar Accuracy, Kappa y MCC.\n"
   ]
  },
  {
   "cell_type": "code",
   "execution_count": 212,
   "id": "6faeef9f",
   "metadata": {},
   "outputs": [
    {
     "data": {
      "text/plain": [
       "<catboost.core.CatBoostClassifier at 0x2033ffbd720>"
      ]
     },
     "execution_count": 212,
     "metadata": {},
     "output_type": "execute_result"
    }
   ],
   "source": [
    "# Entrenamiento final con features depuradas\n",
    "cat_model_final = CatBoostClassifier(\n",
    "    iterations=700,\n",
    "    learning_rate=0.03,\n",
    "    depth=6,\n",
    "    loss_function='MultiClass',\n",
    "    auto_class_weights='Balanced',\n",
    "    early_stopping_rounds=50,\n",
    "    random_seed=42,\n",
    "    verbose=0\n",
    ")\n",
    "\n",
    "cat_model_final.fit(X_train, y_train_encoded, eval_set=(X_test, y_test_encoded))\n"
   ]
  },
  {
   "cell_type": "markdown",
   "id": "a273a9f8",
   "metadata": {},
   "source": [
    "# ETAPA 8D — Entrenamiento definitivo con CatBoost y datos balanceados\n",
    "\n",
    "Entrenamos el modelo final con los datos reequilibrados para maximizar el rendimiento real sobre clases desbalanceadas.\n"
   ]
  },
  {
   "cell_type": "code",
   "execution_count": 213,
   "id": "15e1966a",
   "metadata": {},
   "outputs": [
    {
     "data": {
      "text/plain": [
       "<catboost.core.CatBoostClassifier at 0x2033ffbe980>"
      ]
     },
     "execution_count": 213,
     "metadata": {},
     "output_type": "execute_result"
    }
   ],
   "source": [
    "cat_model_final = CatBoostClassifier(\n",
    "    iterations=1000,\n",
    "    learning_rate=0.025,\n",
    "    depth=8,                      # Más profundidad → más patrones captados\n",
    "    l2_leaf_reg=5,                # Regularización para evitar overfit\n",
    "    loss_function='MultiClass',\n",
    "    auto_class_weights='Balanced',\n",
    "    early_stopping_rounds=50,\n",
    "    random_seed=42,\n",
    "    verbose=0\n",
    ")\n",
    "\n",
    "cat_model_final.fit(X_train_res, y_train_res, eval_set=(X_test, y_test_encoded))"
   ]
  },
  {
   "cell_type": "markdown",
   "id": "f38a38b5",
   "metadata": {},
   "source": [
    "# ETAPA 9 — Evaluación final: Accuracy, Kappa, MCC y matriz de confusión\n",
    "\n",
    "Medimos el rendimiento general y clase por clase para validar la calidad del modelo.\n"
   ]
  },
  {
   "cell_type": "code",
   "execution_count": 214,
   "id": "af83dc87",
   "metadata": {},
   "outputs": [
    {
     "name": "stdout",
     "output_type": "stream",
     "text": [
      "🔍 Accuracy: 0.6605\n",
      "🧠 Kappa: 0.3749\n",
      "📈 MCC: 0.3779\n",
      "\n",
      "Classification Report:\n",
      "               precision    recall  f1-score   support\n",
      "\n",
      "       medio       0.54      0.66      0.59        32\n",
      "      tardío       0.79      0.71      0.75       106\n",
      "    temprano       0.39      0.46      0.42        24\n",
      "\n",
      "    accuracy                           0.66       162\n",
      "   macro avg       0.57      0.61      0.59       162\n",
      "weighted avg       0.68      0.66      0.67       162\n",
      "\n",
      "Confusion Matrix:\n",
      " [[21  9  2]\n",
      " [16 75 15]\n",
      " [ 2 11 11]]\n"
     ]
    }
   ],
   "source": [
    "from sklearn.metrics import (\n",
    "    accuracy_score, classification_report,\n",
    "    confusion_matrix, cohen_kappa_score, matthews_corrcoef, ConfusionMatrixDisplay\n",
    ")\n",
    "\n",
    "# Predicción\n",
    "y_pred = cat_model_final.predict(X_test)\n",
    "y_pred_labels = label_encoder.inverse_transform(y_pred.flatten())\n",
    "\n",
    "# Métricas\n",
    "acc = accuracy_score(y_test, y_pred_labels)\n",
    "kappa = cohen_kappa_score(y_test, y_pred_labels)\n",
    "mcc = matthews_corrcoef(y_test, y_pred_labels)\n",
    "\n",
    "print(f\"🔍 Accuracy: {acc:.4f}\")\n",
    "print(f\"🧠 Kappa: {kappa:.4f}\")\n",
    "print(f\"📈 MCC: {mcc:.4f}\")\n",
    "print(\"\\nClassification Report:\\n\", classification_report(y_test, y_pred_labels))\n",
    "print(\"Confusion Matrix:\\n\", confusion_matrix(y_test, y_pred_labels))\n",
    "\n"
   ]
  },
  {
   "cell_type": "code",
   "execution_count": 215,
   "id": "199e9605",
   "metadata": {},
   "outputs": [
    {
     "data": {
      "image/png": "[encoded data removed]",
      "text/plain": [
       "<Figure size 640x480 with 2 Axes>"
      ]
     },
     "metadata": {},
     "output_type": "display_data"
    },
    {
     "name": "stderr",
     "output_type": "stream",
     "text": [
      "c:\\Users\\juanm\\miniconda3\\envs\\futpeak\\lib\\site-packages\\IPython\\core\\pylabtools.py:170: UserWarning: Glyph 128202 (\\N{BAR CHART}) missing from font(s) DejaVu Sans.\n",
      "  fig.canvas.print_figure(bytes_io, **kw)\n"
     ]
    },
    {
     "data": {
      "image/png": "[encoded data removed]",
      "text/plain": [
       "<Figure size 640x480 with 2 Axes>"
      ]
     },
     "metadata": {},
     "output_type": "display_data"
    }
   ],
   "source": [
    "from sklearn.metrics import ConfusionMatrixDisplay\n",
    "\n",
    "ConfusionMatrixDisplay.from_predictions(\n",
    "    y_test, y_pred_labels,\n",
    "    display_labels=label_encoder.classes_,\n",
    "    cmap='Blues',\n",
    "    normalize='true'\n",
    ").plot()\n",
    "plt.title(\"📊 Matriz de confusión normalizada — CatBoost\")\n",
    "plt.grid(False)\n",
    "plt.show()\n"
   ]
  },
  {
   "cell_type": "markdown",
   "id": "c2993c44",
   "metadata": {},
   "source": [
    "# ETAPA 9B — Evaluación del modelo balanceado\n",
    "\n",
    "Medimos Accuracy, Kappa y MCC, además del reporte completo por clase, tras aplicar SMOTE.\n"
   ]
  },
  {
   "cell_type": "code",
   "execution_count": 216,
   "id": "438e0d92",
   "metadata": {},
   "outputs": [
    {
     "name": "stdout",
     "output_type": "stream",
     "text": [
      "🔍 Accuracy: 0.6605\n",
      "🧠 Kappa: 0.3749\n",
      "📈 MCC: 0.3779\n",
      "\n",
      "📊 Classification Report:\n",
      "               precision    recall  f1-score   support\n",
      "\n",
      "       medio       0.54      0.66      0.59        32\n",
      "      tardío       0.79      0.71      0.75       106\n",
      "    temprano       0.39      0.46      0.42        24\n",
      "\n",
      "    accuracy                           0.66       162\n",
      "   macro avg       0.57      0.61      0.59       162\n",
      "weighted avg       0.68      0.66      0.67       162\n",
      "\n",
      "📌 Confusion Matrix:\n",
      " [[21  9  2]\n",
      " [16 75 15]\n",
      " [ 2 11 11]]\n"
     ]
    }
   ],
   "source": [
    "from sklearn.metrics import (\n",
    "    accuracy_score, classification_report,\n",
    "    confusion_matrix, cohen_kappa_score, matthews_corrcoef\n",
    ")\n",
    "\n",
    "# Predicción\n",
    "y_pred = cat_model_final.predict(X_test)\n",
    "y_pred_labels = label_encoder.inverse_transform(y_pred.flatten())\n",
    "\n",
    "acc = accuracy_score(y_test, y_pred_labels)\n",
    "kappa = cohen_kappa_score(y_test, y_pred_labels)\n",
    "mcc = matthews_corrcoef(y_test, y_pred_labels)\n",
    "\n",
    "print(f\"🔍 Accuracy: {acc:.4f}\")\n",
    "print(f\"🧠 Kappa: {kappa:.4f}\")\n",
    "print(f\"📈 MCC: {mcc:.4f}\")\n",
    "print(\"\\n📊 Classification Report:\\n\", classification_report(y_test, y_pred_labels))\n",
    "print(\"📌 Confusion Matrix:\\n\", confusion_matrix(y_test, y_pred_labels))\n",
    "\n"
   ]
  },
  {
   "cell_type": "markdown",
   "id": "12fc42da",
   "metadata": {},
   "source": [
    "# ETAPA 10 — Visualización de errores"
   ]
  },
  {
   "cell_type": "code",
   "execution_count": 217,
   "id": "4587ea9f",
   "metadata": {},
   "outputs": [
    {
     "name": "stderr",
     "output_type": "stream",
     "text": [
      "c:\\Users\\juanm\\miniconda3\\envs\\futpeak\\lib\\site-packages\\IPython\\core\\pylabtools.py:170: UserWarning: Glyph 128202 (\\N{BAR CHART}) missing from font(s) DejaVu Sans.\n",
      "  fig.canvas.print_figure(bytes_io, **kw)\n"
     ]
    },
    {
     "data": {
      "image/png": "[encoded data removed]",
      "text/plain": [
       "<Figure size 640x480 with 2 Axes>"
      ]
     },
     "metadata": {},
     "output_type": "display_data"
    }
   ],
   "source": [
    "import matplotlib.pyplot as plt\n",
    "\n",
    "# Matriz de confusión normalizada\n",
    "ConfusionMatrixDisplay.from_predictions(\n",
    "    y_test, y_pred_labels,\n",
    "    display_labels=label_encoder.classes_,\n",
    "    cmap='Blues',\n",
    "    normalize='true'\n",
    ")\n",
    "plt.title(\"📊 Matriz de confusión normalizada — CatBoost final\")\n",
    "plt.grid(False)\n",
    "plt.show()\n"
   ]
  },
  {
   "cell_type": "markdown",
   "id": "334dd9e5",
   "metadata": {},
   "source": [
    "# ETAPA 10B — Visualización de errores tras rebalanceo\n",
    "\n",
    "Mostramos la matriz de confusión normalizada para visualizar cómo mejora la clasificación de cada clase.\n"
   ]
  },
  {
   "cell_type": "code",
   "execution_count": 218,
   "id": "61d4585b",
   "metadata": {},
   "outputs": [
    {
     "name": "stderr",
     "output_type": "stream",
     "text": [
      "c:\\Users\\juanm\\miniconda3\\envs\\futpeak\\lib\\site-packages\\IPython\\core\\pylabtools.py:170: UserWarning: Glyph 128202 (\\N{BAR CHART}) missing from font(s) DejaVu Sans.\n",
      "  fig.canvas.print_figure(bytes_io, **kw)\n"
     ]
    },
    {
     "data": {
      "image/png": "[encoded data removed]",
      "text/plain": [
       "<Figure size 640x480 with 2 Axes>"
      ]
     },
     "metadata": {},
     "output_type": "display_data"
    }
   ],
   "source": [
    "from sklearn.metrics import ConfusionMatrixDisplay\n",
    "import matplotlib.pyplot as plt\n",
    "\n",
    "ConfusionMatrixDisplay.from_predictions(\n",
    "    y_test, y_pred_res_labels,\n",
    "    display_labels=label_encoder.classes_,\n",
    "    normalize='true',\n",
    "    cmap='Blues'\n",
    ")\n",
    "plt.title(\"📊 Matriz de confusión normalizada — CatBoost con SMOTE\")\n",
    "plt.grid(False)\n",
    "plt.show()\n"
   ]
  }
 ],
 "metadata": {
  "kernelspec": {
   "display_name": "futpeak",
   "language": "python",
   "name": "python3"
  },
  "language_info": {
   "codemirror_mode": {
    "name": "ipython",
    "version": 3
   },
   "file_extension": ".py",
   "mimetype": "text/x-python",
   "name": "python",
   "nbconvert_exporter": "python",
   "pygments_lexer": "ipython3",
   "version": "3.10.16"
  }
 },
 "nbformat": 4,
 "nbformat_minor": 5
}
