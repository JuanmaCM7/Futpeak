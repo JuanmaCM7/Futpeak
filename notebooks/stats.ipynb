{
 "cells": [
  {
   "cell_type": "code",
   "execution_count": 1,
   "id": "e2deacfd",
   "metadata": {},
   "outputs": [
    {
     "name": "stdout",
     "output_type": "stream",
     "text": [
      "📁 Directorio de trabajo actual: F:\\JCMDataCenter\\Cursos\\Evolve Academy\\Data Scientist IA\\Futpeak\n"
     ]
    }
   ],
   "source": [
    "from pathlib import Path\n",
    "import os\n",
    "\n",
    "# Establece la raíz del proyecto manualmente\n",
    "project_root = Path(\"F:/JCMDataCenter/Cursos/Evolve Academy/Data Scientist IA/Futpeak\") # sobremesa\n",
    "#project_root = Path(\"C:/Users/juanm/Desktop/FUTPEAK/Futpeak\") # portátil\n",
    "\n",
    "# Cambia el directorio de trabajo actual a esa raíz\n",
    "os.chdir(project_root)\n",
    "\n",
    "print(\"📁 Directorio de trabajo actual:\", Path.cwd())\n"
   ]
  },
  {
   "cell_type": "code",
   "execution_count": 2,
   "id": "9744ebae",
   "metadata": {},
   "outputs": [
    {
     "name": "stdout",
     "output_type": "stream",
     "text": [
      "Registros con género masculino guardados: 3344\n",
      "Archivo guardado en: data/processed/male_only_metadata.csv\n"
     ]
    }
   ],
   "source": [
    "import pandas as pd\n",
    "import os\n",
    "\n",
    "# Crear carpeta si no existe\n",
    "os.makedirs('data/processed', exist_ok=True)\n",
    "\n",
    "# Cargar el archivo de metadata\n",
    "metadata_df = pd.read_csv('data/processed/cleaned_metadata.csv')\n",
    "\n",
    "# Filtrar registros donde Gender sea exactamente 'male' (ignorando mayúsculas)\n",
    "male_metadata_df = metadata_df[metadata_df['Gender'].str.lower() == 'male']\n",
    "\n",
    "# Guardar el nuevo CSV en la ruta especificada\n",
    "output_path = 'data/processed/male_only_metadata.csv'\n",
    "male_metadata_df.to_csv(output_path, index=False)\n",
    "\n",
    "# Confirmar cuántos registros se guardaron\n",
    "print(f\"Registros con género masculino guardados: {len(male_metadata_df)}\")\n",
    "print(f\"Archivo guardado en: {output_path}\")\n"
   ]
  },
  {
   "cell_type": "code",
   "execution_count": 3,
   "id": "4a4109cc",
   "metadata": {},
   "outputs": [
    {
     "name": "stdout",
     "output_type": "stream",
     "text": [
      "✅ CSV guardado con 205748 registros y 53 columnas en: data/processed/matchlogs_male_players.csv\n"
     ]
    }
   ],
   "source": [
    "import pandas as pd\n",
    "import os\n",
    "\n",
    "# Crear carpeta de salida si no existe\n",
    "os.makedirs('data/processed', exist_ok=True)\n",
    "\n",
    "# Cargar los archivos\n",
    "metadata_df = pd.read_csv('data/processed/cleaned_metadata.csv')\n",
    "matchlogs_df = pd.read_csv('data/processed/cleaned_matchlogs.csv')\n",
    "\n",
    "# Filtrar metadata por género masculino\n",
    "male_metadata_df = metadata_df[metadata_df['Gender'].str.lower() == 'male']\n",
    "male_ids = set(male_metadata_df['Player_ID'])\n",
    "\n",
    "# Filtrar matchlogs por esos jugadores\n",
    "filtered_matchlogs_df = matchlogs_df[matchlogs_df['Player_ID'].isin(male_ids)]\n",
    "\n",
    "# Eliminar columnas duplicadas del matchlogs que vendrán del metadata\n",
    "filtered_matchlogs_df = filtered_matchlogs_df.drop(columns=[col for col in ['Player_name', 'Position'] if col in filtered_matchlogs_df.columns])\n",
    "\n",
    "# Merge con metadata para agregar info del jugador\n",
    "merged_df = filtered_matchlogs_df.merge(\n",
    "    male_metadata_df[['Player_ID', 'Player_name', 'Full_name', 'Birth_date', 'Age', 'Position', 'Footed', 'Birth_place', 'Nationality', 'Club']],\n",
    "    on='Player_ID',\n",
    "    how='left'\n",
    ")\n",
    "\n",
    "# Reordenar columnas\n",
    "initial_cols = ['Player_name', 'Player_ID']\n",
    "merged_df = merged_df[[col for col in initial_cols if col in merged_df.columns] + [col for col in merged_df.columns if col not in initial_cols]]\n",
    "\n",
    "# Guardar el CSV final\n",
    "output_path = 'data/processed/matchlogs_male_players.csv'\n",
    "merged_df.to_csv(output_path, index=False)\n",
    "\n",
    "# Confirmación\n",
    "print(f\"✅ CSV guardado con {len(merged_df)} registros y {len(merged_df.columns)} columnas en: {output_path}\")\n",
    "\n",
    "\n"
   ]
  },
  {
   "cell_type": "code",
   "execution_count": 4,
   "id": "f7b82803",
   "metadata": {},
   "outputs": [
    {
     "name": "stdout",
     "output_type": "stream",
     "text": [
      "Filas antes del merge: 205748\n",
      "Filas después del merge: 205748\n",
      "Columnas nuevas añadidas: {'Footed', 'Player_name', 'Position', 'Birth_date', 'Full_name', 'Age', 'Club', 'Birth_place', 'Nationality'}\n"
     ]
    }
   ],
   "source": [
    "print(f\"Filas antes del merge: {len(filtered_matchlogs_df)}\")\n",
    "print(f\"Filas después del merge: {len(merged_df)}\")\n",
    "print(\"Columnas nuevas añadidas:\", set(merged_df.columns) - set(filtered_matchlogs_df.columns))\n"
   ]
  },
  {
   "cell_type": "code",
   "execution_count": 5,
   "id": "e64fb135",
   "metadata": {},
   "outputs": [
    {
     "data": {
      "text/plain": [
       "Player_ID  Player_name     \n",
       "162efffd   Rodrigo De Paul     497\n",
       "01eb744d   Angel Correa        491\n",
       "7a2e46a8   Alisson             478\n",
       "f7036e1c   Lautaro Martinez    457\n",
       "81be82e9   Weverton            455\n",
       "b3e42951   Franco Armani       451\n",
       "b66315ae   Gabriel Jesus       446\n",
       "81442ecb   Marcos Acuna        431\n",
       "d8f11068   Nahuel Guzman       429\n",
       "fba79ac8   Tiago Volpi         421\n",
       "dtype: int64"
      ]
     },
     "execution_count": 5,
     "metadata": {},
     "output_type": "execute_result"
    }
   ],
   "source": [
    "# 📊 1. Jugadores con más partidos registrados\n",
    "\n",
    "merged_df.groupby(['Player_ID', 'Player_name']).size().sort_values(ascending=False).head(10)\n"
   ]
  },
  {
   "cell_type": "code",
   "execution_count": 6,
   "id": "a7c3aa01",
   "metadata": {},
   "outputs": [
    {
     "data": {
      "text/plain": [
       "Player_ID  Player_name      \n",
       "7a2e46a8   Alisson              42977.0\n",
       "81be82e9   Weverton             40924.0\n",
       "b3e42951   Franco Armani        40713.0\n",
       "d8f11068   Nahuel Guzman        38547.0\n",
       "fba79ac8   Tiago Volpi          37858.0\n",
       "8c725b43   German Pezzella      34261.0\n",
       "162efffd   Rodrigo De Paul      34250.0\n",
       "6afd25e6   Hugo Nervo           33018.0\n",
       "a59c090b   Everson              32861.0\n",
       "cf5c3ef1   Carlos Izquierdoz    32128.0\n",
       "Name: Minutes, dtype: float64"
      ]
     },
     "execution_count": 6,
     "metadata": {},
     "output_type": "execute_result"
    }
   ],
   "source": [
    "# 📊 2. Total de minutos jugados por jugador (útil para validar volumen de datos por jugador)\n",
    "\n",
    "merged_df['Minutes'] = pd.to_numeric(merged_df['Minutes'], errors='coerce')\n",
    "merged_df.groupby(['Player_ID', 'Player_name'])['Minutes'].sum().sort_values(ascending=False).head(10)\n"
   ]
  },
  {
   "cell_type": "code",
   "execution_count": 7,
   "id": "390683e7",
   "metadata": {},
   "outputs": [
    {
     "data": {
      "text/plain": [
       "Player_ID  Player_name      \n",
       "1edc043c   Federico Carrizo     15\n",
       "b4519dd4   Nicolas Blandi       15\n",
       "d4814e00   Fernando Zuqui       15\n",
       "cf5c3ef1   Carlos Izquierdoz    15\n",
       "d5ff6084   Marcos Guilherme     15\n",
       "b14f755d   Ivan Marcone         15\n",
       "7c884b79   Damian Perez         14\n",
       "5887a70d   Nery Dominguez       14\n",
       "5b37f2f8   Walter Kannemann     14\n",
       "5a43b021   Bruno Henrique       14\n",
       "Name: Seasons, dtype: int64"
      ]
     },
     "execution_count": 7,
     "metadata": {},
     "output_type": "execute_result"
    }
   ],
   "source": [
    "# 📊 3. Jugadores con mayor número de temporadas únicas\n",
    "\n",
    "merged_df.groupby(['Player_ID', 'Player_name'])['Seasons'].nunique().sort_values(ascending=False).head(10)\n"
   ]
  },
  {
   "cell_type": "code",
   "execution_count": 8,
   "id": "2bcb1baa",
   "metadata": {},
   "outputs": [
    {
     "name": "stdout",
     "output_type": "stream",
     "text": [
      "Nationality\n",
      "Brazil           499\n",
      "Argentina        447\n",
      "France            94\n",
      "Monaco             2\n",
      "United States      2\n",
      "Cuba               1\n",
      "Italy              1\n",
      "Mexico             1\n",
      "Austria            1\n",
      "Belgium            1\n",
      "Name: count, dtype: int64\n"
     ]
    }
   ],
   "source": [
    "# Paso 1: obtener jugadores únicos con su país\n",
    "unique_players = merged_df[['Player_ID', 'Nationality']].drop_duplicates()\n",
    "\n",
    "# Paso 2: contar jugadores por país\n",
    "top_nationalities = unique_players['Nationality'].value_counts().head(10)\n",
    "print(top_nationalities)\n",
    "\n"
   ]
  },
  {
   "cell_type": "code",
   "execution_count": 9,
   "id": "1822f697",
   "metadata": {},
   "outputs": [
    {
     "name": "stdout",
     "output_type": "stream",
     "text": [
      "Player_ID  Player_name         \n",
      "f7036e1c   Lautaro Martinez        209.0\n",
      "9ccf4e14   German Cano             176.0\n",
      "b66315ae   Gabriel Jesus           160.0\n",
      "5c4f4e43   Talisca                 155.0\n",
      "1b9399bc   Bernardo Cuesta         153.0\n",
      "72d0e1b6   Gabriel Barbosa         152.0\n",
      "facfa8cb   Kadidiatou Diani        140.0\n",
      "fc2c5692   Juan Ignacio Dinenno    120.0\n",
      "8c45dfe7   Anderson Lopes          118.0\n",
      "7111d552   Vinicius Junior         117.0\n",
      "Name: Goals, dtype: float64\n"
     ]
    }
   ],
   "source": [
    "merged_df['Goals'] = pd.to_numeric(merged_df['Goals'], errors='coerce')\n",
    "top_goals = merged_df.groupby(['Player_ID', 'Player_name'])['Goals'].sum().sort_values(ascending=False).head(10)\n",
    "print(top_goals)\n"
   ]
  },
  {
   "cell_type": "code",
   "execution_count": 11,
   "id": "eadbcd28",
   "metadata": {},
   "outputs": [
    {
     "ename": "KeyboardInterrupt",
     "evalue": "",
     "output_type": "error",
     "traceback": [
      "\u001b[1;31m---------------------------------------------------------------------------\u001b[0m",
      "\u001b[1;31mKeyboardInterrupt\u001b[0m                         Traceback (most recent call last)",
      "Cell \u001b[1;32mIn[11], line 8\u001b[0m\n\u001b[0;32m      5\u001b[0m cleaned_df \u001b[38;5;241m=\u001b[39m pd\u001b[38;5;241m.\u001b[39mread_csv(\u001b[38;5;124m\"\u001b[39m\u001b[38;5;124mdata/processed/cleaned_matchlogs.csv\u001b[39m\u001b[38;5;124m\"\u001b[39m, dtype\u001b[38;5;241m=\u001b[39m\u001b[38;5;28mstr\u001b[39m)\n\u001b[0;32m      7\u001b[0m \u001b[38;5;66;03m# Buscar filas con ID de Mbappé en cualquier columna del raw\u001b[39;00m\n\u001b[1;32m----> 8\u001b[0m mbappe_raw_rows \u001b[38;5;241m=\u001b[39m raw_df[\u001b[43mraw_df\u001b[49m\u001b[38;5;241;43m.\u001b[39;49m\u001b[43mapply\u001b[49m\u001b[43m(\u001b[49m\u001b[38;5;28;43;01mlambda\u001b[39;49;00m\u001b[43m \u001b[49m\u001b[43mrow\u001b[49m\u001b[43m:\u001b[49m\u001b[43m \u001b[49m\u001b[43mrow\u001b[49m\u001b[38;5;241;43m.\u001b[39;49m\u001b[43mastype\u001b[49m\u001b[43m(\u001b[49m\u001b[38;5;28;43mstr\u001b[39;49m\u001b[43m)\u001b[49m\u001b[38;5;241;43m.\u001b[39;49m\u001b[43mstr\u001b[49m\u001b[38;5;241;43m.\u001b[39;49m\u001b[43mcontains\u001b[49m\u001b[43m(\u001b[49m\u001b[38;5;124;43m\"\u001b[39;49m\u001b[38;5;124;43m42fd9c7f\u001b[39;49m\u001b[38;5;124;43m\"\u001b[39;49m\u001b[43m,\u001b[49m\u001b[43m \u001b[49m\u001b[43mna\u001b[49m\u001b[38;5;241;43m=\u001b[39;49m\u001b[38;5;28;43;01mFalse\u001b[39;49;00m\u001b[43m)\u001b[49m\u001b[38;5;241;43m.\u001b[39;49m\u001b[43many\u001b[49m\u001b[43m(\u001b[49m\u001b[43m)\u001b[49m\u001b[43m,\u001b[49m\u001b[43m \u001b[49m\u001b[43maxis\u001b[49m\u001b[38;5;241;43m=\u001b[39;49m\u001b[38;5;241;43m1\u001b[39;49m\u001b[43m)\u001b[49m]\n\u001b[0;32m     10\u001b[0m \u001b[38;5;66;03m# Buscar filas por ID en el cleaned\u001b[39;00m\n\u001b[0;32m     11\u001b[0m mbappe_cleaned_rows \u001b[38;5;241m=\u001b[39m cleaned_df[cleaned_df[\u001b[38;5;124m'\u001b[39m\u001b[38;5;124mPlayer_ID\u001b[39m\u001b[38;5;124m'\u001b[39m] \u001b[38;5;241m==\u001b[39m \u001b[38;5;124m'\u001b[39m\u001b[38;5;124m42fd9c7f\u001b[39m\u001b[38;5;124m'\u001b[39m]\n",
      "File \u001b[1;32mc:\\Users\\juanm\\miniconda3\\envs\\futpeak\\lib\\site-packages\\pandas\\core\\frame.py:10374\u001b[0m, in \u001b[0;36mDataFrame.apply\u001b[1;34m(self, func, axis, raw, result_type, args, by_row, engine, engine_kwargs, **kwargs)\u001b[0m\n\u001b[0;32m  10360\u001b[0m \u001b[38;5;28;01mfrom\u001b[39;00m\u001b[38;5;250m \u001b[39m\u001b[38;5;21;01mpandas\u001b[39;00m\u001b[38;5;21;01m.\u001b[39;00m\u001b[38;5;21;01mcore\u001b[39;00m\u001b[38;5;21;01m.\u001b[39;00m\u001b[38;5;21;01mapply\u001b[39;00m\u001b[38;5;250m \u001b[39m\u001b[38;5;28;01mimport\u001b[39;00m frame_apply\n\u001b[0;32m  10362\u001b[0m op \u001b[38;5;241m=\u001b[39m frame_apply(\n\u001b[0;32m  10363\u001b[0m     \u001b[38;5;28mself\u001b[39m,\n\u001b[0;32m  10364\u001b[0m     func\u001b[38;5;241m=\u001b[39mfunc,\n\u001b[1;32m   (...)\u001b[0m\n\u001b[0;32m  10372\u001b[0m     kwargs\u001b[38;5;241m=\u001b[39mkwargs,\n\u001b[0;32m  10373\u001b[0m )\n\u001b[1;32m> 10374\u001b[0m \u001b[38;5;28;01mreturn\u001b[39;00m \u001b[43mop\u001b[49m\u001b[38;5;241;43m.\u001b[39;49m\u001b[43mapply\u001b[49m\u001b[43m(\u001b[49m\u001b[43m)\u001b[49m\u001b[38;5;241m.\u001b[39m__finalize__(\u001b[38;5;28mself\u001b[39m, method\u001b[38;5;241m=\u001b[39m\u001b[38;5;124m\"\u001b[39m\u001b[38;5;124mapply\u001b[39m\u001b[38;5;124m\"\u001b[39m)\n",
      "File \u001b[1;32mc:\\Users\\juanm\\miniconda3\\envs\\futpeak\\lib\\site-packages\\pandas\\core\\apply.py:916\u001b[0m, in \u001b[0;36mFrameApply.apply\u001b[1;34m(self)\u001b[0m\n\u001b[0;32m    913\u001b[0m \u001b[38;5;28;01melif\u001b[39;00m \u001b[38;5;28mself\u001b[39m\u001b[38;5;241m.\u001b[39mraw:\n\u001b[0;32m    914\u001b[0m     \u001b[38;5;28;01mreturn\u001b[39;00m \u001b[38;5;28mself\u001b[39m\u001b[38;5;241m.\u001b[39mapply_raw(engine\u001b[38;5;241m=\u001b[39m\u001b[38;5;28mself\u001b[39m\u001b[38;5;241m.\u001b[39mengine, engine_kwargs\u001b[38;5;241m=\u001b[39m\u001b[38;5;28mself\u001b[39m\u001b[38;5;241m.\u001b[39mengine_kwargs)\n\u001b[1;32m--> 916\u001b[0m \u001b[38;5;28;01mreturn\u001b[39;00m \u001b[38;5;28;43mself\u001b[39;49m\u001b[38;5;241;43m.\u001b[39;49m\u001b[43mapply_standard\u001b[49m\u001b[43m(\u001b[49m\u001b[43m)\u001b[49m\n",
      "File \u001b[1;32mc:\\Users\\juanm\\miniconda3\\envs\\futpeak\\lib\\site-packages\\pandas\\core\\apply.py:1063\u001b[0m, in \u001b[0;36mFrameApply.apply_standard\u001b[1;34m(self)\u001b[0m\n\u001b[0;32m   1061\u001b[0m \u001b[38;5;28;01mdef\u001b[39;00m\u001b[38;5;250m \u001b[39m\u001b[38;5;21mapply_standard\u001b[39m(\u001b[38;5;28mself\u001b[39m):\n\u001b[0;32m   1062\u001b[0m     \u001b[38;5;28;01mif\u001b[39;00m \u001b[38;5;28mself\u001b[39m\u001b[38;5;241m.\u001b[39mengine \u001b[38;5;241m==\u001b[39m \u001b[38;5;124m\"\u001b[39m\u001b[38;5;124mpython\u001b[39m\u001b[38;5;124m\"\u001b[39m:\n\u001b[1;32m-> 1063\u001b[0m         results, res_index \u001b[38;5;241m=\u001b[39m \u001b[38;5;28;43mself\u001b[39;49m\u001b[38;5;241;43m.\u001b[39;49m\u001b[43mapply_series_generator\u001b[49m\u001b[43m(\u001b[49m\u001b[43m)\u001b[49m\n\u001b[0;32m   1064\u001b[0m     \u001b[38;5;28;01melse\u001b[39;00m:\n\u001b[0;32m   1065\u001b[0m         results, res_index \u001b[38;5;241m=\u001b[39m \u001b[38;5;28mself\u001b[39m\u001b[38;5;241m.\u001b[39mapply_series_numba()\n",
      "File \u001b[1;32mc:\\Users\\juanm\\miniconda3\\envs\\futpeak\\lib\\site-packages\\pandas\\core\\apply.py:1081\u001b[0m, in \u001b[0;36mFrameApply.apply_series_generator\u001b[1;34m(self)\u001b[0m\n\u001b[0;32m   1078\u001b[0m \u001b[38;5;28;01mwith\u001b[39;00m option_context(\u001b[38;5;124m\"\u001b[39m\u001b[38;5;124mmode.chained_assignment\u001b[39m\u001b[38;5;124m\"\u001b[39m, \u001b[38;5;28;01mNone\u001b[39;00m):\n\u001b[0;32m   1079\u001b[0m     \u001b[38;5;28;01mfor\u001b[39;00m i, v \u001b[38;5;129;01min\u001b[39;00m \u001b[38;5;28menumerate\u001b[39m(series_gen):\n\u001b[0;32m   1080\u001b[0m         \u001b[38;5;66;03m# ignore SettingWithCopy here in case the user mutates\u001b[39;00m\n\u001b[1;32m-> 1081\u001b[0m         results[i] \u001b[38;5;241m=\u001b[39m \u001b[38;5;28mself\u001b[39m\u001b[38;5;241m.\u001b[39mfunc(v, \u001b[38;5;241m*\u001b[39m\u001b[38;5;28mself\u001b[39m\u001b[38;5;241m.\u001b[39margs, \u001b[38;5;241m*\u001b[39m\u001b[38;5;241m*\u001b[39m\u001b[38;5;28mself\u001b[39m\u001b[38;5;241m.\u001b[39mkwargs)\n\u001b[0;32m   1082\u001b[0m         \u001b[38;5;28;01mif\u001b[39;00m \u001b[38;5;28misinstance\u001b[39m(results[i], ABCSeries):\n\u001b[0;32m   1083\u001b[0m             \u001b[38;5;66;03m# If we have a view on v, we need to make a copy because\u001b[39;00m\n\u001b[0;32m   1084\u001b[0m             \u001b[38;5;66;03m#  series_generator will swap out the underlying data\u001b[39;00m\n\u001b[0;32m   1085\u001b[0m             results[i] \u001b[38;5;241m=\u001b[39m results[i]\u001b[38;5;241m.\u001b[39mcopy(deep\u001b[38;5;241m=\u001b[39m\u001b[38;5;28;01mFalse\u001b[39;00m)\n",
      "Cell \u001b[1;32mIn[11], line 8\u001b[0m, in \u001b[0;36m<lambda>\u001b[1;34m(row)\u001b[0m\n\u001b[0;32m      5\u001b[0m cleaned_df \u001b[38;5;241m=\u001b[39m pd\u001b[38;5;241m.\u001b[39mread_csv(\u001b[38;5;124m\"\u001b[39m\u001b[38;5;124mdata/processed/cleaned_matchlogs.csv\u001b[39m\u001b[38;5;124m\"\u001b[39m, dtype\u001b[38;5;241m=\u001b[39m\u001b[38;5;28mstr\u001b[39m)\n\u001b[0;32m      7\u001b[0m \u001b[38;5;66;03m# Buscar filas con ID de Mbappé en cualquier columna del raw\u001b[39;00m\n\u001b[1;32m----> 8\u001b[0m mbappe_raw_rows \u001b[38;5;241m=\u001b[39m raw_df[raw_df\u001b[38;5;241m.\u001b[39mapply(\u001b[38;5;28;01mlambda\u001b[39;00m row: \u001b[43mrow\u001b[49m\u001b[38;5;241;43m.\u001b[39;49m\u001b[43mastype\u001b[49m\u001b[43m(\u001b[49m\u001b[38;5;28;43mstr\u001b[39;49m\u001b[43m)\u001b[49m\u001b[38;5;241;43m.\u001b[39;49m\u001b[43mstr\u001b[49m\u001b[38;5;241;43m.\u001b[39;49m\u001b[43mcontains\u001b[49m\u001b[43m(\u001b[49m\u001b[38;5;124;43m\"\u001b[39;49m\u001b[38;5;124;43m42fd9c7f\u001b[39;49m\u001b[38;5;124;43m\"\u001b[39;49m\u001b[43m,\u001b[49m\u001b[43m \u001b[49m\u001b[43mna\u001b[49m\u001b[38;5;241;43m=\u001b[39;49m\u001b[38;5;28;43;01mFalse\u001b[39;49;00m\u001b[43m)\u001b[49m\u001b[38;5;241m.\u001b[39many(), axis\u001b[38;5;241m=\u001b[39m\u001b[38;5;241m1\u001b[39m)]\n\u001b[0;32m     10\u001b[0m \u001b[38;5;66;03m# Buscar filas por ID en el cleaned\u001b[39;00m\n\u001b[0;32m     11\u001b[0m mbappe_cleaned_rows \u001b[38;5;241m=\u001b[39m cleaned_df[cleaned_df[\u001b[38;5;124m'\u001b[39m\u001b[38;5;124mPlayer_ID\u001b[39m\u001b[38;5;124m'\u001b[39m] \u001b[38;5;241m==\u001b[39m \u001b[38;5;124m'\u001b[39m\u001b[38;5;124m42fd9c7f\u001b[39m\u001b[38;5;124m'\u001b[39m]\n",
      "File \u001b[1;32mc:\\Users\\juanm\\miniconda3\\envs\\futpeak\\lib\\site-packages\\pandas\\core\\strings\\accessor.py:137\u001b[0m, in \u001b[0;36mforbid_nonstring_types.<locals>._forbid_nonstring_types.<locals>.wrapper\u001b[1;34m(self, *args, **kwargs)\u001b[0m\n\u001b[0;32m    132\u001b[0m     msg \u001b[38;5;241m=\u001b[39m (\n\u001b[0;32m    133\u001b[0m         \u001b[38;5;124mf\u001b[39m\u001b[38;5;124m\"\u001b[39m\u001b[38;5;124mCannot use .str.\u001b[39m\u001b[38;5;132;01m{\u001b[39;00mfunc_name\u001b[38;5;132;01m}\u001b[39;00m\u001b[38;5;124m with values of \u001b[39m\u001b[38;5;124m\"\u001b[39m\n\u001b[0;32m    134\u001b[0m         \u001b[38;5;124mf\u001b[39m\u001b[38;5;124m\"\u001b[39m\u001b[38;5;124minferred dtype \u001b[39m\u001b[38;5;124m'\u001b[39m\u001b[38;5;132;01m{\u001b[39;00m\u001b[38;5;28mself\u001b[39m\u001b[38;5;241m.\u001b[39m_inferred_dtype\u001b[38;5;132;01m}\u001b[39;00m\u001b[38;5;124m'\u001b[39m\u001b[38;5;124m.\u001b[39m\u001b[38;5;124m\"\u001b[39m\n\u001b[0;32m    135\u001b[0m     )\n\u001b[0;32m    136\u001b[0m     \u001b[38;5;28;01mraise\u001b[39;00m \u001b[38;5;167;01mTypeError\u001b[39;00m(msg)\n\u001b[1;32m--> 137\u001b[0m \u001b[38;5;28;01mreturn\u001b[39;00m func(\u001b[38;5;28mself\u001b[39m, \u001b[38;5;241m*\u001b[39margs, \u001b[38;5;241m*\u001b[39m\u001b[38;5;241m*\u001b[39mkwargs)\n",
      "File \u001b[1;32mc:\\Users\\juanm\\miniconda3\\envs\\futpeak\\lib\\site-packages\\pandas\\core\\strings\\accessor.py:1335\u001b[0m, in \u001b[0;36mStringMethods.contains\u001b[1;34m(self, pat, case, flags, na, regex)\u001b[0m\n\u001b[0;32m   1327\u001b[0m \u001b[38;5;28;01mif\u001b[39;00m regex \u001b[38;5;129;01mand\u001b[39;00m re\u001b[38;5;241m.\u001b[39mcompile(pat)\u001b[38;5;241m.\u001b[39mgroups:\n\u001b[0;32m   1328\u001b[0m     warnings\u001b[38;5;241m.\u001b[39mwarn(\n\u001b[0;32m   1329\u001b[0m         \u001b[38;5;124m\"\u001b[39m\u001b[38;5;124mThis pattern is interpreted as a regular expression, and has \u001b[39m\u001b[38;5;124m\"\u001b[39m\n\u001b[0;32m   1330\u001b[0m         \u001b[38;5;124m\"\u001b[39m\u001b[38;5;124mmatch groups. To actually get the groups, use str.extract.\u001b[39m\u001b[38;5;124m\"\u001b[39m,\n\u001b[0;32m   1331\u001b[0m         \u001b[38;5;167;01mUserWarning\u001b[39;00m,\n\u001b[0;32m   1332\u001b[0m         stacklevel\u001b[38;5;241m=\u001b[39mfind_stack_level(),\n\u001b[0;32m   1333\u001b[0m     )\n\u001b[1;32m-> 1335\u001b[0m result \u001b[38;5;241m=\u001b[39m \u001b[38;5;28;43mself\u001b[39;49m\u001b[38;5;241;43m.\u001b[39;49m\u001b[43m_data\u001b[49m\u001b[38;5;241;43m.\u001b[39;49m\u001b[43marray\u001b[49m\u001b[38;5;241;43m.\u001b[39;49m\u001b[43m_str_contains\u001b[49m\u001b[43m(\u001b[49m\u001b[43mpat\u001b[49m\u001b[43m,\u001b[49m\u001b[43m \u001b[49m\u001b[43mcase\u001b[49m\u001b[43m,\u001b[49m\u001b[43m \u001b[49m\u001b[43mflags\u001b[49m\u001b[43m,\u001b[49m\u001b[43m \u001b[49m\u001b[43mna\u001b[49m\u001b[43m,\u001b[49m\u001b[43m \u001b[49m\u001b[43mregex\u001b[49m\u001b[43m)\u001b[49m\n\u001b[0;32m   1336\u001b[0m \u001b[38;5;28;01mreturn\u001b[39;00m \u001b[38;5;28mself\u001b[39m\u001b[38;5;241m.\u001b[39m_wrap_result(result, fill_value\u001b[38;5;241m=\u001b[39mna, returns_string\u001b[38;5;241m=\u001b[39m\u001b[38;5;28;01mFalse\u001b[39;00m)\n",
      "File \u001b[1;32mc:\\Users\\juanm\\miniconda3\\envs\\futpeak\\lib\\site-packages\\pandas\\core\\strings\\object_array.py:145\u001b[0m, in \u001b[0;36mObjectStringArrayMixin._str_contains\u001b[1;34m(self, pat, case, flags, na, regex)\u001b[0m\n\u001b[0;32m    143\u001b[0m         upper_pat \u001b[38;5;241m=\u001b[39m pat\u001b[38;5;241m.\u001b[39mupper()\n\u001b[0;32m    144\u001b[0m         f \u001b[38;5;241m=\u001b[39m \u001b[38;5;28;01mlambda\u001b[39;00m x: upper_pat \u001b[38;5;129;01min\u001b[39;00m x\u001b[38;5;241m.\u001b[39mupper()\n\u001b[1;32m--> 145\u001b[0m \u001b[38;5;28;01mreturn\u001b[39;00m \u001b[38;5;28;43mself\u001b[39;49m\u001b[38;5;241;43m.\u001b[39;49m\u001b[43m_str_map\u001b[49m\u001b[43m(\u001b[49m\u001b[43mf\u001b[49m\u001b[43m,\u001b[49m\u001b[43m \u001b[49m\u001b[43mna\u001b[49m\u001b[43m,\u001b[49m\u001b[43m \u001b[49m\u001b[43mdtype\u001b[49m\u001b[38;5;241;43m=\u001b[39;49m\u001b[43mnp\u001b[49m\u001b[38;5;241;43m.\u001b[39;49m\u001b[43mdtype\u001b[49m\u001b[43m(\u001b[49m\u001b[38;5;124;43m\"\u001b[39;49m\u001b[38;5;124;43mbool\u001b[39;49m\u001b[38;5;124;43m\"\u001b[39;49m\u001b[43m)\u001b[49m\u001b[43m)\u001b[49m\n",
      "File \u001b[1;32mc:\\Users\\juanm\\miniconda3\\envs\\futpeak\\lib\\site-packages\\pandas\\core\\strings\\object_array.py:103\u001b[0m, in \u001b[0;36mObjectStringArrayMixin._str_map\u001b[1;34m(self, f, na_value, dtype, convert)\u001b[0m\n\u001b[0;32m    101\u001b[0m     \u001b[38;5;28;01mreturn\u001b[39;00m result\n\u001b[0;32m    102\u001b[0m \u001b[38;5;28;01mif\u001b[39;00m na_value \u001b[38;5;129;01mis\u001b[39;00m \u001b[38;5;129;01mnot\u001b[39;00m np\u001b[38;5;241m.\u001b[39mnan:\n\u001b[1;32m--> 103\u001b[0m     \u001b[43mnp\u001b[49m\u001b[38;5;241;43m.\u001b[39;49m\u001b[43mputmask\u001b[49m\u001b[43m(\u001b[49m\u001b[43mresult\u001b[49m\u001b[43m,\u001b[49m\u001b[43m \u001b[49m\u001b[43mmask\u001b[49m\u001b[43m,\u001b[49m\u001b[43m \u001b[49m\u001b[43mna_value\u001b[49m\u001b[43m)\u001b[49m\n\u001b[0;32m    104\u001b[0m     \u001b[38;5;28;01mif\u001b[39;00m convert \u001b[38;5;129;01mand\u001b[39;00m result\u001b[38;5;241m.\u001b[39mdtype \u001b[38;5;241m==\u001b[39m \u001b[38;5;28mobject\u001b[39m:\n\u001b[0;32m    105\u001b[0m         result \u001b[38;5;241m=\u001b[39m lib\u001b[38;5;241m.\u001b[39mmaybe_convert_objects(result)\n",
      "\u001b[1;31mKeyboardInterrupt\u001b[0m: "
     ]
    }
   ],
   "source": [
    "import pandas as pd\n",
    "\n",
    "# Cargar los archivos\n",
    "raw_df = pd.read_csv(\"data/raw/top_10_countries_matchlogs_filtered.csv\", dtype=str, low_memory=False)\n",
    "cleaned_df = pd.read_csv(\"data/processed/cleaned_matchlogs.csv\", dtype=str)\n",
    "\n",
    "# Buscar filas con ID de Mbappé en cualquier columna del raw\n",
    "mbappe_raw_rows = raw_df[raw_df.apply(lambda row: row.astype(str).str.contains(\"42fd9c7f\", na=False).any(), axis=1)]\n",
    "\n",
    "# Buscar filas por ID en el cleaned\n",
    "mbappe_cleaned_rows = cleaned_df[cleaned_df['Player_ID'] == '42fd9c7f']\n",
    "\n",
    "# Convertir goles a numérico y sumar\n",
    "mbappe_cleaned_rows['Goals'] = pd.to_numeric(mbappe_cleaned_rows['Goals'], errors='coerce')\n",
    "total_goals = mbappe_cleaned_rows['Goals'].sum()\n",
    "\n",
    "# Resultados\n",
    "print(f\"▶️ Filas en raw con ID: {len(mbappe_raw_rows)}\")\n",
    "print(f\"✅ Filas en cleaned con ID: {len(mbappe_cleaned_rows)}\")\n",
    "print(f\"⚽ Goles totales en cleaned: {int(total_goals)}\")\n",
    "\n",
    "\n"
   ]
  }
 ],
 "metadata": {
  "kernelspec": {
   "display_name": "futpeak",
   "language": "python",
   "name": "python3"
  },
  "language_info": {
   "codemirror_mode": {
    "name": "ipython",
    "version": 3
   },
   "file_extension": ".py",
   "mimetype": "text/x-python",
   "name": "python",
   "nbconvert_exporter": "python",
   "pygments_lexer": "ipython3",
   "version": "3.10.16"
  }
 },
 "nbformat": 4,
 "nbformat_minor": 5
}
