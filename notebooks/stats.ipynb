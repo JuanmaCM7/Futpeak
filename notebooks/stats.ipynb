{
 "cells": [
  {
   "cell_type": "code",
   "execution_count": 3,
   "id": "e2deacfd",
   "metadata": {},
   "outputs": [
    {
     "name": "stdout",
     "output_type": "stream",
     "text": [
      "📁 Directorio de trabajo actual: F:\\JCMDataCenter\\Cursos\\Evolve Academy\\Data Scientist IA\\Futpeak\n"
     ]
    }
   ],
   "source": [
    "from pathlib import Path\n",
    "import os\n",
    "\n",
    "# Establece la raíz del proyecto manualmente\n",
    "project_root = Path(\"F:/JCMDataCenter/Cursos/Evolve Academy/Data Scientist IA/Futpeak\") # sobremesa\n",
    "#project_root = Path(\"C:/Users/juanm/Desktop/FUTPEAK/Futpeak\") # portátil\n",
    "\n",
    "# Cambia el directorio de trabajo actual a esa raíz\n",
    "os.chdir(project_root)\n",
    "\n",
    "print(\"📁 Directorio de trabajo actual:\", Path.cwd())\n"
   ]
  },
  {
   "cell_type": "code",
   "execution_count": 4,
   "id": "9744ebae",
   "metadata": {},
   "outputs": [
    {
     "name": "stdout",
     "output_type": "stream",
     "text": [
      "Registros con género masculino guardados: 3344\n",
      "Archivo guardado en: data/processed/male_only_metadata.csv\n"
     ]
    }
   ],
   "source": [
    "import pandas as pd\n",
    "import os\n",
    "\n",
    "# Crear carpeta si no existe\n",
    "os.makedirs('data/processed', exist_ok=True)\n",
    "\n",
    "# Cargar el archivo de metadata\n",
    "metadata_df = pd.read_csv('data/processed/cleaned_metadata.csv')\n",
    "\n",
    "# Filtrar registros donde Gender sea exactamente 'male' (ignorando mayúsculas)\n",
    "male_metadata_df = metadata_df[metadata_df['Gender'].str.lower() == 'male']\n",
    "\n",
    "# Guardar el nuevo CSV en la ruta especificada\n",
    "output_path = 'data/processed/male_only_metadata.csv'\n",
    "male_metadata_df.to_csv(output_path, index=False)\n",
    "\n",
    "# Confirmar cuántos registros se guardaron\n",
    "print(f\"Registros con género masculino guardados: {len(male_metadata_df)}\")\n",
    "print(f\"Archivo guardado en: {output_path}\")\n"
   ]
  },
  {
   "cell_type": "code",
   "execution_count": 5,
   "id": "4a4109cc",
   "metadata": {},
   "outputs": [
    {
     "name": "stdout",
     "output_type": "stream",
     "text": [
      "✅ CSV guardado con 574412 registros y 53 columnas en: data/processed/matchlogs_male_players.csv\n"
     ]
    }
   ],
   "source": [
    "import pandas as pd\n",
    "import os\n",
    "\n",
    "# Crear carpeta de salida si no existe\n",
    "os.makedirs('data/processed', exist_ok=True)\n",
    "\n",
    "# Cargar los archivos\n",
    "metadata_df = pd.read_csv('data/processed/cleaned_metadata.csv')\n",
    "matchlogs_df = pd.read_csv('data/processed/cleaned_matchlogs.csv')\n",
    "\n",
    "# Filtrar metadata por género masculino\n",
    "male_metadata_df = metadata_df[metadata_df['Gender'].str.lower() == 'male']\n",
    "male_ids = set(male_metadata_df['Player_ID'])\n",
    "\n",
    "# Filtrar matchlogs por esos jugadores\n",
    "filtered_matchlogs_df = matchlogs_df[matchlogs_df['Player_ID'].isin(male_ids)]\n",
    "\n",
    "# Eliminar columnas duplicadas del matchlogs que vendrán del metadata\n",
    "filtered_matchlogs_df = filtered_matchlogs_df.drop(columns=[col for col in ['Player_name', 'Position'] if col in filtered_matchlogs_df.columns])\n",
    "\n",
    "# Merge con metadata para agregar info del jugador\n",
    "merged_df = filtered_matchlogs_df.merge(\n",
    "    male_metadata_df[['Player_ID', 'Player_name', 'Full_name', 'Birth_date', 'Age', 'Position', 'Footed', 'Birth_place', 'Nationality', 'Club']],\n",
    "    on='Player_ID',\n",
    "    how='left'\n",
    ")\n",
    "\n",
    "# Reordenar columnas\n",
    "initial_cols = ['Player_name', 'Player_ID']\n",
    "merged_df = merged_df[[col for col in initial_cols if col in merged_df.columns] + [col for col in merged_df.columns if col not in initial_cols]]\n",
    "\n",
    "# Guardar el CSV final\n",
    "output_path = 'data/processed/matchlogs_male_players.csv'\n",
    "merged_df.to_csv(output_path, index=False)\n",
    "\n",
    "# Confirmación\n",
    "print(f\"✅ CSV guardado con {len(merged_df)} registros y {len(merged_df.columns)} columnas en: {output_path}\")\n",
    "\n",
    "\n"
   ]
  },
  {
   "cell_type": "code",
   "execution_count": 6,
   "id": "f7b82803",
   "metadata": {},
   "outputs": [
    {
     "name": "stdout",
     "output_type": "stream",
     "text": [
      "Filas antes del merge: 574412\n",
      "Filas después del merge: 574412\n",
      "Columnas nuevas añadidas: {'Position', 'Footed', 'Nationality', 'Age', 'Full_name', 'Club', 'Birth_date', 'Birth_place', 'Player_name'}\n"
     ]
    }
   ],
   "source": [
    "print(f\"Filas antes del merge: {len(filtered_matchlogs_df)}\")\n",
    "print(f\"Filas después del merge: {len(merged_df)}\")\n",
    "print(\"Columnas nuevas añadidas:\", set(merged_df.columns) - set(filtered_matchlogs_df.columns))\n"
   ]
  },
  {
   "cell_type": "code",
   "execution_count": 7,
   "id": "e64fb135",
   "metadata": {},
   "outputs": [
    {
     "data": {
      "text/plain": [
       "Player_ID  Player_name      \n",
       "b3e42951   Franco Armani        1136\n",
       "162efffd   Rodrigo De Paul      1062\n",
       "81442ecb   Marcos Acuna         1008\n",
       "cf5c3ef1   Carlos Izquierdoz     992\n",
       "01eb744d   Angel Correa          980\n",
       "d8f11068   Nahuel Guzman         964\n",
       "97a17c0b   Ignacio Fernandez     958\n",
       "875ac6e9   Diego Churin          896\n",
       "b6160ad0   Matias Dituro         892\n",
       "1edc043c   Federico Carrizo      846\n",
       "dtype: int64"
      ]
     },
     "execution_count": 7,
     "metadata": {},
     "output_type": "execute_result"
    }
   ],
   "source": [
    "# 📊 1. Jugadores con más partidos registrados\n",
    "\n",
    "merged_df.groupby(['Player_ID', 'Player_name']).size().sort_values(ascending=False).head(10)\n"
   ]
  },
  {
   "cell_type": "code",
   "execution_count": 8,
   "id": "a7c3aa01",
   "metadata": {},
   "outputs": [
    {
     "data": {
      "text/plain": [
       "Player_ID  Player_name      \n",
       "b3e42951   Franco Armani        102620.0\n",
       "d8f11068   Nahuel Guzman         86602.0\n",
       "cf5c3ef1   Carlos Izquierdoz     86002.0\n",
       "b6160ad0   Matias Dituro         80278.0\n",
       "775d365e   Esteban Andrada       76520.0\n",
       "81442ecb   Marcos Acuna          73746.0\n",
       "162efffd   Rodrigo De Paul       72452.0\n",
       "39fb428f   Victor Cuesta         67722.0\n",
       "97a17c0b   Ignacio Fernandez     67022.0\n",
       "82549f54   Fabricio Bustos       66034.0\n",
       "Name: Minutes, dtype: float64"
      ]
     },
     "execution_count": 8,
     "metadata": {},
     "output_type": "execute_result"
    }
   ],
   "source": [
    "# 📊 2. Total de minutos jugados por jugador (útil para validar volumen de datos por jugador)\n",
    "\n",
    "merged_df['Minutes'] = pd.to_numeric(merged_df['Minutes'], errors='coerce')\n",
    "merged_df.groupby(['Player_ID', 'Player_name'])['Minutes'].sum().sort_values(ascending=False).head(10)\n"
   ]
  },
  {
   "cell_type": "code",
   "execution_count": 9,
   "id": "390683e7",
   "metadata": {},
   "outputs": [
    {
     "data": {
      "text/plain": [
       "Player_ID  Player_name               \n",
       "476d6fbe   Carlos Auzqui                 17\n",
       "3ca6106c   Augusto Solari                17\n",
       "b14f755d   Ivan Marcone                  17\n",
       "635c9552   Ezequiel Cerutti              16\n",
       "24377e64   Guillermo Matias Fernandez    16\n",
       "5887a70d   Nery Dominguez                16\n",
       "b4519dd4   Nicolas Blandi                16\n",
       "14cc32a6   Rafael Marcelo Delgado        16\n",
       "cf5c3ef1   Carlos Izquierdoz             16\n",
       "97a17c0b   Ignacio Fernandez             16\n",
       "Name: Seasons, dtype: int64"
      ]
     },
     "execution_count": 9,
     "metadata": {},
     "output_type": "execute_result"
    }
   ],
   "source": [
    "# 📊 3. Jugadores con mayor número de temporadas únicas\n",
    "\n",
    "merged_df.groupby(['Player_ID', 'Player_name'])['Seasons'].nunique().sort_values(ascending=False).head(10)\n"
   ]
  },
  {
   "cell_type": "code",
   "execution_count": 10,
   "id": "2bcb1baa",
   "metadata": {},
   "outputs": [
    {
     "name": "stdout",
     "output_type": "stream",
     "text": [
      "Nationality\n",
      "England        541\n",
      "Germany        462\n",
      "Argentina      457\n",
      "Spain          296\n",
      "France         261\n",
      "Brazil         254\n",
      "Italy          248\n",
      "Netherlands    103\n",
      "Belgium         89\n",
      "Portugal        38\n",
      "Name: count, dtype: int64\n"
     ]
    }
   ],
   "source": [
    "# Paso 1: obtener jugadores únicos con su país\n",
    "unique_players = merged_df[['Player_ID', 'Nationality']].drop_duplicates()\n",
    "\n",
    "# Paso 2: contar jugadores por país\n",
    "top_nationalities = unique_players['Nationality'].value_counts().head(10)\n",
    "print(top_nationalities)\n",
    "\n"
   ]
  },
  {
   "cell_type": "code",
   "execution_count": 11,
   "id": "1822f697",
   "metadata": {},
   "outputs": [
    {
     "name": "stdout",
     "output_type": "stream",
     "text": [
      "Player_ID  Player_name         \n",
      "9ccf4e14   German Cano             66.0\n",
      "875ac6e9   Diego Churin            64.0\n",
      "1b9399bc   Bernardo Cuesta         64.0\n",
      "7fa737c4   Ezequiel Barco          62.0\n",
      "42fd9c7f   Kylian Mbappe           59.0\n",
      "fc2c5692   Juan Ignacio Dinenno    54.0\n",
      "05341453   Cristian Guanca         54.0\n",
      "84d35e44   Julio Furch             50.0\n",
      "0cab947b   Nicolas Ibanez          48.0\n",
      "834d0be5   Lucas Alario            46.0\n",
      "Name: Goals, dtype: float64\n"
     ]
    }
   ],
   "source": [
    "merged_df['Goals'] = pd.to_numeric(merged_df['Goals'], errors='coerce')\n",
    "top_goals = merged_df.groupby(['Player_ID', 'Player_name'])['Goals'].sum().sort_values(ascending=False).head(10)\n",
    "print(top_goals)\n"
   ]
  },
  {
   "cell_type": "code",
   "execution_count": 28,
   "id": "eadbcd28",
   "metadata": {},
   "outputs": [
    {
     "name": "stdout",
     "output_type": "stream",
     "text": [
      "▶️ Filas en raw con ID: 674\n",
      "✅ Filas en cleaned con ID: 507\n",
      "⚽ Goles totales en cleaned: 59\n"
     ]
    },
    {
     "name": "stderr",
     "output_type": "stream",
     "text": [
      "C:\\Users\\juanm\\AppData\\Local\\Temp\\ipykernel_38192\\2012172950.py:14: SettingWithCopyWarning: \n",
      "A value is trying to be set on a copy of a slice from a DataFrame.\n",
      "Try using .loc[row_indexer,col_indexer] = value instead\n",
      "\n",
      "See the caveats in the documentation: https://pandas.pydata.org/pandas-docs/stable/user_guide/indexing.html#returning-a-view-versus-a-copy\n",
      "  mbappe_cleaned_rows['Goals'] = pd.to_numeric(mbappe_cleaned_rows['Goals'], errors='coerce')\n"
     ]
    }
   ],
   "source": [
    "import pandas as pd\n",
    "\n",
    "# Cargar los archivos\n",
    "raw_df = pd.read_csv(\"data/raw/raw_matchlogs_ordered.csv\", dtype=str, low_memory=False)\n",
    "cleaned_df = pd.read_csv(\"data/processed/cleaned_matchlogs.csv\", dtype=str)\n",
    "\n",
    "# Buscar filas con ID de Mbappé en cualquier columna del raw\n",
    "mbappe_raw_rows = raw_df[raw_df.apply(lambda row: row.astype(str).str.contains(\"42fd9c7f\", na=False).any(), axis=1)]\n",
    "\n",
    "# Buscar filas por ID en el cleaned\n",
    "mbappe_cleaned_rows = cleaned_df[cleaned_df['Player_ID'] == '42fd9c7f']\n",
    "\n",
    "# Convertir goles a numérico y sumar\n",
    "mbappe_cleaned_rows['Goals'] = pd.to_numeric(mbappe_cleaned_rows['Goals'], errors='coerce')\n",
    "total_goals = mbappe_cleaned_rows['Goals'].sum()\n",
    "\n",
    "# Resultados\n",
    "print(f\"▶️ Filas en raw con ID: {len(mbappe_raw_rows)}\")\n",
    "print(f\"✅ Filas en cleaned con ID: {len(mbappe_cleaned_rows)}\")\n",
    "print(f\"⚽ Goles totales en cleaned: {int(total_goals)}\")\n",
    "\n",
    "\n"
   ]
  }
 ],
 "metadata": {
  "kernelspec": {
   "display_name": "futpeak",
   "language": "python",
   "name": "python3"
  },
  "language_info": {
   "codemirror_mode": {
    "name": "ipython",
    "version": 3
   },
   "file_extension": ".py",
   "mimetype": "text/x-python",
   "name": "python",
   "nbconvert_exporter": "python",
   "pygments_lexer": "ipython3",
   "version": "3.10.16"
  }
 },
 "nbformat": 4,
 "nbformat_minor": 5
}
